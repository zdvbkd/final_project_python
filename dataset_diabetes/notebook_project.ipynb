{
 "cells": [
  {
   "cell_type": "markdown",
   "id": "9438a1c2",
   "metadata": {},
   "source": [
    "# Final Project - Python For Data Analysis\n",
    "\n",
    "---\n",
    "\n",
    "## Diabetes 130-US hospitals for years 1999-2008 Dataset\n",
    "Author: Alexandre Grosse - ESILV-4-S7-CORE-DIA4 <br>\n",
    "Date: 1/5/2022\n",
    "\n",
    "---"
   ]
  },
  {
   "cell_type": "markdown",
   "id": "95b1bcfc",
   "metadata": {},
   "source": [
    "### *Table of Contents*\n",
    "\n",
    "  - [Part 1](#part_1) : Exploring & cleaning data\n",
    "  - [Part 2](#part_2) : Feature engineering\n",
    "  - [Part 3](#part_3) : Data visualization\n",
    "  - [Part 4](#part_4) : Modeling\n",
    "  - [Part 5](#part_5) : Comparing models\n",
    "  \n",
    "  ---"
   ]
  },
  {
   "cell_type": "markdown",
   "id": "b2a7e2ce",
   "metadata": {},
   "source": [
    "## Imports"
   ]
  },
  {
   "cell_type": "code",
   "execution_count": 1,
   "id": "8d1750d0",
   "metadata": {},
   "outputs": [],
   "source": [
    "import pandas as pd\n",
    "import numpy as np\n",
    "import seaborn as sns\n",
    "import matplotlib.pyplot as plt\n",
    "\n",
    "from mapping import *"
   ]
  },
  {
   "cell_type": "markdown",
   "id": "77c8c6f1",
   "metadata": {},
   "source": [
    "<a name=\"part_1\">\n",
    "\n",
    "### 1. Exploring & cleaning data\n",
    "---"
   ]
  },
  {
   "cell_type": "markdown",
   "id": "6c0ba9a8",
   "metadata": {},
   "source": [
    "#### 1) Loading the csv file into a pandas dataframe"
   ]
  },
  {
   "cell_type": "code",
   "execution_count": 2,
   "id": "eb6194d2",
   "metadata": {},
   "outputs": [
    {
     "data": {
      "text/html": [
       "<div>\n",
       "<style scoped>\n",
       "    .dataframe tbody tr th:only-of-type {\n",
       "        vertical-align: middle;\n",
       "    }\n",
       "\n",
       "    .dataframe tbody tr th {\n",
       "        vertical-align: top;\n",
       "    }\n",
       "\n",
       "    .dataframe thead th {\n",
       "        text-align: right;\n",
       "    }\n",
       "</style>\n",
       "<table border=\"1\" class=\"dataframe\">\n",
       "  <thead>\n",
       "    <tr style=\"text-align: right;\">\n",
       "      <th></th>\n",
       "      <th>encounter_id</th>\n",
       "      <th>patient_nbr</th>\n",
       "      <th>race</th>\n",
       "      <th>gender</th>\n",
       "      <th>age</th>\n",
       "      <th>weight</th>\n",
       "      <th>admission_type_id</th>\n",
       "      <th>discharge_disposition_id</th>\n",
       "      <th>admission_source_id</th>\n",
       "      <th>time_in_hospital</th>\n",
       "      <th>...</th>\n",
       "      <th>citoglipton</th>\n",
       "      <th>insulin</th>\n",
       "      <th>glyburide-metformin</th>\n",
       "      <th>glipizide-metformin</th>\n",
       "      <th>glimepiride-pioglitazone</th>\n",
       "      <th>metformin-rosiglitazone</th>\n",
       "      <th>metformin-pioglitazone</th>\n",
       "      <th>change</th>\n",
       "      <th>diabetesMed</th>\n",
       "      <th>readmitted</th>\n",
       "    </tr>\n",
       "  </thead>\n",
       "  <tbody>\n",
       "    <tr>\n",
       "      <th>0</th>\n",
       "      <td>2278392</td>\n",
       "      <td>8222157</td>\n",
       "      <td>Caucasian</td>\n",
       "      <td>Female</td>\n",
       "      <td>[0-10)</td>\n",
       "      <td>?</td>\n",
       "      <td>6</td>\n",
       "      <td>25</td>\n",
       "      <td>1</td>\n",
       "      <td>1</td>\n",
       "      <td>...</td>\n",
       "      <td>No</td>\n",
       "      <td>No</td>\n",
       "      <td>No</td>\n",
       "      <td>No</td>\n",
       "      <td>No</td>\n",
       "      <td>No</td>\n",
       "      <td>No</td>\n",
       "      <td>No</td>\n",
       "      <td>No</td>\n",
       "      <td>NO</td>\n",
       "    </tr>\n",
       "    <tr>\n",
       "      <th>1</th>\n",
       "      <td>149190</td>\n",
       "      <td>55629189</td>\n",
       "      <td>Caucasian</td>\n",
       "      <td>Female</td>\n",
       "      <td>[10-20)</td>\n",
       "      <td>?</td>\n",
       "      <td>1</td>\n",
       "      <td>1</td>\n",
       "      <td>7</td>\n",
       "      <td>3</td>\n",
       "      <td>...</td>\n",
       "      <td>No</td>\n",
       "      <td>Up</td>\n",
       "      <td>No</td>\n",
       "      <td>No</td>\n",
       "      <td>No</td>\n",
       "      <td>No</td>\n",
       "      <td>No</td>\n",
       "      <td>Ch</td>\n",
       "      <td>Yes</td>\n",
       "      <td>&gt;30</td>\n",
       "    </tr>\n",
       "    <tr>\n",
       "      <th>2</th>\n",
       "      <td>64410</td>\n",
       "      <td>86047875</td>\n",
       "      <td>AfricanAmerican</td>\n",
       "      <td>Female</td>\n",
       "      <td>[20-30)</td>\n",
       "      <td>?</td>\n",
       "      <td>1</td>\n",
       "      <td>1</td>\n",
       "      <td>7</td>\n",
       "      <td>2</td>\n",
       "      <td>...</td>\n",
       "      <td>No</td>\n",
       "      <td>No</td>\n",
       "      <td>No</td>\n",
       "      <td>No</td>\n",
       "      <td>No</td>\n",
       "      <td>No</td>\n",
       "      <td>No</td>\n",
       "      <td>No</td>\n",
       "      <td>Yes</td>\n",
       "      <td>NO</td>\n",
       "    </tr>\n",
       "    <tr>\n",
       "      <th>3</th>\n",
       "      <td>500364</td>\n",
       "      <td>82442376</td>\n",
       "      <td>Caucasian</td>\n",
       "      <td>Male</td>\n",
       "      <td>[30-40)</td>\n",
       "      <td>?</td>\n",
       "      <td>1</td>\n",
       "      <td>1</td>\n",
       "      <td>7</td>\n",
       "      <td>2</td>\n",
       "      <td>...</td>\n",
       "      <td>No</td>\n",
       "      <td>Up</td>\n",
       "      <td>No</td>\n",
       "      <td>No</td>\n",
       "      <td>No</td>\n",
       "      <td>No</td>\n",
       "      <td>No</td>\n",
       "      <td>Ch</td>\n",
       "      <td>Yes</td>\n",
       "      <td>NO</td>\n",
       "    </tr>\n",
       "    <tr>\n",
       "      <th>4</th>\n",
       "      <td>16680</td>\n",
       "      <td>42519267</td>\n",
       "      <td>Caucasian</td>\n",
       "      <td>Male</td>\n",
       "      <td>[40-50)</td>\n",
       "      <td>?</td>\n",
       "      <td>1</td>\n",
       "      <td>1</td>\n",
       "      <td>7</td>\n",
       "      <td>1</td>\n",
       "      <td>...</td>\n",
       "      <td>No</td>\n",
       "      <td>Steady</td>\n",
       "      <td>No</td>\n",
       "      <td>No</td>\n",
       "      <td>No</td>\n",
       "      <td>No</td>\n",
       "      <td>No</td>\n",
       "      <td>Ch</td>\n",
       "      <td>Yes</td>\n",
       "      <td>NO</td>\n",
       "    </tr>\n",
       "    <tr>\n",
       "      <th>...</th>\n",
       "      <td>...</td>\n",
       "      <td>...</td>\n",
       "      <td>...</td>\n",
       "      <td>...</td>\n",
       "      <td>...</td>\n",
       "      <td>...</td>\n",
       "      <td>...</td>\n",
       "      <td>...</td>\n",
       "      <td>...</td>\n",
       "      <td>...</td>\n",
       "      <td>...</td>\n",
       "      <td>...</td>\n",
       "      <td>...</td>\n",
       "      <td>...</td>\n",
       "      <td>...</td>\n",
       "      <td>...</td>\n",
       "      <td>...</td>\n",
       "      <td>...</td>\n",
       "      <td>...</td>\n",
       "      <td>...</td>\n",
       "      <td>...</td>\n",
       "    </tr>\n",
       "    <tr>\n",
       "      <th>101761</th>\n",
       "      <td>443847548</td>\n",
       "      <td>100162476</td>\n",
       "      <td>AfricanAmerican</td>\n",
       "      <td>Male</td>\n",
       "      <td>[70-80)</td>\n",
       "      <td>?</td>\n",
       "      <td>1</td>\n",
       "      <td>3</td>\n",
       "      <td>7</td>\n",
       "      <td>3</td>\n",
       "      <td>...</td>\n",
       "      <td>No</td>\n",
       "      <td>Down</td>\n",
       "      <td>No</td>\n",
       "      <td>No</td>\n",
       "      <td>No</td>\n",
       "      <td>No</td>\n",
       "      <td>No</td>\n",
       "      <td>Ch</td>\n",
       "      <td>Yes</td>\n",
       "      <td>&gt;30</td>\n",
       "    </tr>\n",
       "    <tr>\n",
       "      <th>101762</th>\n",
       "      <td>443847782</td>\n",
       "      <td>74694222</td>\n",
       "      <td>AfricanAmerican</td>\n",
       "      <td>Female</td>\n",
       "      <td>[80-90)</td>\n",
       "      <td>?</td>\n",
       "      <td>1</td>\n",
       "      <td>4</td>\n",
       "      <td>5</td>\n",
       "      <td>5</td>\n",
       "      <td>...</td>\n",
       "      <td>No</td>\n",
       "      <td>Steady</td>\n",
       "      <td>No</td>\n",
       "      <td>No</td>\n",
       "      <td>No</td>\n",
       "      <td>No</td>\n",
       "      <td>No</td>\n",
       "      <td>No</td>\n",
       "      <td>Yes</td>\n",
       "      <td>NO</td>\n",
       "    </tr>\n",
       "    <tr>\n",
       "      <th>101763</th>\n",
       "      <td>443854148</td>\n",
       "      <td>41088789</td>\n",
       "      <td>Caucasian</td>\n",
       "      <td>Male</td>\n",
       "      <td>[70-80)</td>\n",
       "      <td>?</td>\n",
       "      <td>1</td>\n",
       "      <td>1</td>\n",
       "      <td>7</td>\n",
       "      <td>1</td>\n",
       "      <td>...</td>\n",
       "      <td>No</td>\n",
       "      <td>Down</td>\n",
       "      <td>No</td>\n",
       "      <td>No</td>\n",
       "      <td>No</td>\n",
       "      <td>No</td>\n",
       "      <td>No</td>\n",
       "      <td>Ch</td>\n",
       "      <td>Yes</td>\n",
       "      <td>NO</td>\n",
       "    </tr>\n",
       "    <tr>\n",
       "      <th>101764</th>\n",
       "      <td>443857166</td>\n",
       "      <td>31693671</td>\n",
       "      <td>Caucasian</td>\n",
       "      <td>Female</td>\n",
       "      <td>[80-90)</td>\n",
       "      <td>?</td>\n",
       "      <td>2</td>\n",
       "      <td>3</td>\n",
       "      <td>7</td>\n",
       "      <td>10</td>\n",
       "      <td>...</td>\n",
       "      <td>No</td>\n",
       "      <td>Up</td>\n",
       "      <td>No</td>\n",
       "      <td>No</td>\n",
       "      <td>No</td>\n",
       "      <td>No</td>\n",
       "      <td>No</td>\n",
       "      <td>Ch</td>\n",
       "      <td>Yes</td>\n",
       "      <td>NO</td>\n",
       "    </tr>\n",
       "    <tr>\n",
       "      <th>101765</th>\n",
       "      <td>443867222</td>\n",
       "      <td>175429310</td>\n",
       "      <td>Caucasian</td>\n",
       "      <td>Male</td>\n",
       "      <td>[70-80)</td>\n",
       "      <td>?</td>\n",
       "      <td>1</td>\n",
       "      <td>1</td>\n",
       "      <td>7</td>\n",
       "      <td>6</td>\n",
       "      <td>...</td>\n",
       "      <td>No</td>\n",
       "      <td>No</td>\n",
       "      <td>No</td>\n",
       "      <td>No</td>\n",
       "      <td>No</td>\n",
       "      <td>No</td>\n",
       "      <td>No</td>\n",
       "      <td>No</td>\n",
       "      <td>No</td>\n",
       "      <td>NO</td>\n",
       "    </tr>\n",
       "  </tbody>\n",
       "</table>\n",
       "<p>101766 rows × 50 columns</p>\n",
       "</div>"
      ],
      "text/plain": [
       "        encounter_id  patient_nbr             race  gender      age weight  \\\n",
       "0            2278392      8222157        Caucasian  Female   [0-10)      ?   \n",
       "1             149190     55629189        Caucasian  Female  [10-20)      ?   \n",
       "2              64410     86047875  AfricanAmerican  Female  [20-30)      ?   \n",
       "3             500364     82442376        Caucasian    Male  [30-40)      ?   \n",
       "4              16680     42519267        Caucasian    Male  [40-50)      ?   \n",
       "...              ...          ...              ...     ...      ...    ...   \n",
       "101761     443847548    100162476  AfricanAmerican    Male  [70-80)      ?   \n",
       "101762     443847782     74694222  AfricanAmerican  Female  [80-90)      ?   \n",
       "101763     443854148     41088789        Caucasian    Male  [70-80)      ?   \n",
       "101764     443857166     31693671        Caucasian  Female  [80-90)      ?   \n",
       "101765     443867222    175429310        Caucasian    Male  [70-80)      ?   \n",
       "\n",
       "        admission_type_id  discharge_disposition_id  admission_source_id  \\\n",
       "0                       6                        25                    1   \n",
       "1                       1                         1                    7   \n",
       "2                       1                         1                    7   \n",
       "3                       1                         1                    7   \n",
       "4                       1                         1                    7   \n",
       "...                   ...                       ...                  ...   \n",
       "101761                  1                         3                    7   \n",
       "101762                  1                         4                    5   \n",
       "101763                  1                         1                    7   \n",
       "101764                  2                         3                    7   \n",
       "101765                  1                         1                    7   \n",
       "\n",
       "        time_in_hospital  ... citoglipton insulin  glyburide-metformin  \\\n",
       "0                      1  ...          No      No                   No   \n",
       "1                      3  ...          No      Up                   No   \n",
       "2                      2  ...          No      No                   No   \n",
       "3                      2  ...          No      Up                   No   \n",
       "4                      1  ...          No  Steady                   No   \n",
       "...                  ...  ...         ...     ...                  ...   \n",
       "101761                 3  ...          No    Down                   No   \n",
       "101762                 5  ...          No  Steady                   No   \n",
       "101763                 1  ...          No    Down                   No   \n",
       "101764                10  ...          No      Up                   No   \n",
       "101765                 6  ...          No      No                   No   \n",
       "\n",
       "        glipizide-metformin  glimepiride-pioglitazone  \\\n",
       "0                        No                        No   \n",
       "1                        No                        No   \n",
       "2                        No                        No   \n",
       "3                        No                        No   \n",
       "4                        No                        No   \n",
       "...                     ...                       ...   \n",
       "101761                   No                        No   \n",
       "101762                   No                        No   \n",
       "101763                   No                        No   \n",
       "101764                   No                        No   \n",
       "101765                   No                        No   \n",
       "\n",
       "        metformin-rosiglitazone  metformin-pioglitazone  change diabetesMed  \\\n",
       "0                            No                      No      No          No   \n",
       "1                            No                      No      Ch         Yes   \n",
       "2                            No                      No      No         Yes   \n",
       "3                            No                      No      Ch         Yes   \n",
       "4                            No                      No      Ch         Yes   \n",
       "...                         ...                     ...     ...         ...   \n",
       "101761                       No                      No      Ch         Yes   \n",
       "101762                       No                      No      No         Yes   \n",
       "101763                       No                      No      Ch         Yes   \n",
       "101764                       No                      No      Ch         Yes   \n",
       "101765                       No                      No      No          No   \n",
       "\n",
       "       readmitted  \n",
       "0              NO  \n",
       "1             >30  \n",
       "2              NO  \n",
       "3              NO  \n",
       "4              NO  \n",
       "...           ...  \n",
       "101761        >30  \n",
       "101762         NO  \n",
       "101763         NO  \n",
       "101764         NO  \n",
       "101765         NO  \n",
       "\n",
       "[101766 rows x 50 columns]"
      ]
     },
     "execution_count": 2,
     "metadata": {},
     "output_type": "execute_result"
    }
   ],
   "source": [
    "dataset = pd.read_csv(\"diabetic_data.csv\")\n",
    "dataset"
   ]
  },
  {
   "cell_type": "markdown",
   "id": "c932c71e",
   "metadata": {},
   "source": [
    "#### 2) Removing missing data from the pandas dataframe just created"
   ]
  },
  {
   "cell_type": "code",
   "execution_count": 3,
   "id": "a0a45f26",
   "metadata": {},
   "outputs": [
    {
     "data": {
      "text/html": [
       "<div>\n",
       "<style scoped>\n",
       "    .dataframe tbody tr th:only-of-type {\n",
       "        vertical-align: middle;\n",
       "    }\n",
       "\n",
       "    .dataframe tbody tr th {\n",
       "        vertical-align: top;\n",
       "    }\n",
       "\n",
       "    .dataframe thead th {\n",
       "        text-align: right;\n",
       "    }\n",
       "</style>\n",
       "<table border=\"1\" class=\"dataframe\">\n",
       "  <thead>\n",
       "    <tr style=\"text-align: right;\">\n",
       "      <th></th>\n",
       "      <th>encounter_id</th>\n",
       "      <th>patient_nbr</th>\n",
       "      <th>race</th>\n",
       "      <th>gender</th>\n",
       "      <th>age</th>\n",
       "      <th>weight</th>\n",
       "      <th>admission_type_id</th>\n",
       "      <th>discharge_disposition_id</th>\n",
       "      <th>admission_source_id</th>\n",
       "      <th>time_in_hospital</th>\n",
       "      <th>...</th>\n",
       "      <th>citoglipton</th>\n",
       "      <th>insulin</th>\n",
       "      <th>glyburide-metformin</th>\n",
       "      <th>glipizide-metformin</th>\n",
       "      <th>glimepiride-pioglitazone</th>\n",
       "      <th>metformin-rosiglitazone</th>\n",
       "      <th>metformin-pioglitazone</th>\n",
       "      <th>change</th>\n",
       "      <th>diabetesMed</th>\n",
       "      <th>readmitted</th>\n",
       "    </tr>\n",
       "  </thead>\n",
       "  <tbody>\n",
       "    <tr>\n",
       "      <th>27068</th>\n",
       "      <td>88792836</td>\n",
       "      <td>100654011</td>\n",
       "      <td>Caucasian</td>\n",
       "      <td>Female</td>\n",
       "      <td>[70-80)</td>\n",
       "      <td>[75-100)</td>\n",
       "      <td>3</td>\n",
       "      <td>3</td>\n",
       "      <td>1</td>\n",
       "      <td>10</td>\n",
       "      <td>...</td>\n",
       "      <td>No</td>\n",
       "      <td>Steady</td>\n",
       "      <td>No</td>\n",
       "      <td>No</td>\n",
       "      <td>No</td>\n",
       "      <td>No</td>\n",
       "      <td>No</td>\n",
       "      <td>Ch</td>\n",
       "      <td>Yes</td>\n",
       "      <td>&lt;30</td>\n",
       "    </tr>\n",
       "    <tr>\n",
       "      <th>27128</th>\n",
       "      <td>88986678</td>\n",
       "      <td>58682736</td>\n",
       "      <td>Caucasian</td>\n",
       "      <td>Male</td>\n",
       "      <td>[80-90)</td>\n",
       "      <td>[50-75)</td>\n",
       "      <td>1</td>\n",
       "      <td>11</td>\n",
       "      <td>5</td>\n",
       "      <td>6</td>\n",
       "      <td>...</td>\n",
       "      <td>No</td>\n",
       "      <td>Steady</td>\n",
       "      <td>No</td>\n",
       "      <td>No</td>\n",
       "      <td>No</td>\n",
       "      <td>No</td>\n",
       "      <td>No</td>\n",
       "      <td>No</td>\n",
       "      <td>Yes</td>\n",
       "      <td>NO</td>\n",
       "    </tr>\n",
       "    <tr>\n",
       "      <th>27147</th>\n",
       "      <td>89032962</td>\n",
       "      <td>69250302</td>\n",
       "      <td>Caucasian</td>\n",
       "      <td>Male</td>\n",
       "      <td>[60-70)</td>\n",
       "      <td>[100-125)</td>\n",
       "      <td>1</td>\n",
       "      <td>1</td>\n",
       "      <td>7</td>\n",
       "      <td>2</td>\n",
       "      <td>...</td>\n",
       "      <td>No</td>\n",
       "      <td>No</td>\n",
       "      <td>No</td>\n",
       "      <td>No</td>\n",
       "      <td>No</td>\n",
       "      <td>No</td>\n",
       "      <td>No</td>\n",
       "      <td>No</td>\n",
       "      <td>Yes</td>\n",
       "      <td>&gt;30</td>\n",
       "    </tr>\n",
       "    <tr>\n",
       "      <th>27186</th>\n",
       "      <td>89191392</td>\n",
       "      <td>62022042</td>\n",
       "      <td>Caucasian</td>\n",
       "      <td>Male</td>\n",
       "      <td>[40-50)</td>\n",
       "      <td>[75-100)</td>\n",
       "      <td>1</td>\n",
       "      <td>3</td>\n",
       "      <td>7</td>\n",
       "      <td>3</td>\n",
       "      <td>...</td>\n",
       "      <td>No</td>\n",
       "      <td>No</td>\n",
       "      <td>No</td>\n",
       "      <td>No</td>\n",
       "      <td>No</td>\n",
       "      <td>No</td>\n",
       "      <td>No</td>\n",
       "      <td>No</td>\n",
       "      <td>Yes</td>\n",
       "      <td>&gt;30</td>\n",
       "    </tr>\n",
       "    <tr>\n",
       "      <th>27236</th>\n",
       "      <td>89277516</td>\n",
       "      <td>30950811</td>\n",
       "      <td>Caucasian</td>\n",
       "      <td>Male</td>\n",
       "      <td>[50-60)</td>\n",
       "      <td>[100-125)</td>\n",
       "      <td>3</td>\n",
       "      <td>1</td>\n",
       "      <td>1</td>\n",
       "      <td>2</td>\n",
       "      <td>...</td>\n",
       "      <td>No</td>\n",
       "      <td>No</td>\n",
       "      <td>No</td>\n",
       "      <td>No</td>\n",
       "      <td>No</td>\n",
       "      <td>No</td>\n",
       "      <td>No</td>\n",
       "      <td>No</td>\n",
       "      <td>Yes</td>\n",
       "      <td>&gt;30</td>\n",
       "    </tr>\n",
       "    <tr>\n",
       "      <th>...</th>\n",
       "      <td>...</td>\n",
       "      <td>...</td>\n",
       "      <td>...</td>\n",
       "      <td>...</td>\n",
       "      <td>...</td>\n",
       "      <td>...</td>\n",
       "      <td>...</td>\n",
       "      <td>...</td>\n",
       "      <td>...</td>\n",
       "      <td>...</td>\n",
       "      <td>...</td>\n",
       "      <td>...</td>\n",
       "      <td>...</td>\n",
       "      <td>...</td>\n",
       "      <td>...</td>\n",
       "      <td>...</td>\n",
       "      <td>...</td>\n",
       "      <td>...</td>\n",
       "      <td>...</td>\n",
       "      <td>...</td>\n",
       "      <td>...</td>\n",
       "    </tr>\n",
       "    <tr>\n",
       "      <th>101238</th>\n",
       "      <td>436721264</td>\n",
       "      <td>123812618</td>\n",
       "      <td>AfricanAmerican</td>\n",
       "      <td>Male</td>\n",
       "      <td>[70-80)</td>\n",
       "      <td>[75-100)</td>\n",
       "      <td>1</td>\n",
       "      <td>1</td>\n",
       "      <td>7</td>\n",
       "      <td>1</td>\n",
       "      <td>...</td>\n",
       "      <td>No</td>\n",
       "      <td>Steady</td>\n",
       "      <td>No</td>\n",
       "      <td>No</td>\n",
       "      <td>No</td>\n",
       "      <td>No</td>\n",
       "      <td>No</td>\n",
       "      <td>No</td>\n",
       "      <td>Yes</td>\n",
       "      <td>NO</td>\n",
       "    </tr>\n",
       "    <tr>\n",
       "      <th>101330</th>\n",
       "      <td>437928656</td>\n",
       "      <td>117516146</td>\n",
       "      <td>Caucasian</td>\n",
       "      <td>Male</td>\n",
       "      <td>[30-40)</td>\n",
       "      <td>[100-125)</td>\n",
       "      <td>1</td>\n",
       "      <td>1</td>\n",
       "      <td>7</td>\n",
       "      <td>4</td>\n",
       "      <td>...</td>\n",
       "      <td>No</td>\n",
       "      <td>No</td>\n",
       "      <td>No</td>\n",
       "      <td>No</td>\n",
       "      <td>No</td>\n",
       "      <td>No</td>\n",
       "      <td>No</td>\n",
       "      <td>No</td>\n",
       "      <td>No</td>\n",
       "      <td>NO</td>\n",
       "    </tr>\n",
       "    <tr>\n",
       "      <th>101340</th>\n",
       "      <td>437959022</td>\n",
       "      <td>8420319</td>\n",
       "      <td>Caucasian</td>\n",
       "      <td>Male</td>\n",
       "      <td>[60-70)</td>\n",
       "      <td>[100-125)</td>\n",
       "      <td>1</td>\n",
       "      <td>1</td>\n",
       "      <td>7</td>\n",
       "      <td>3</td>\n",
       "      <td>...</td>\n",
       "      <td>No</td>\n",
       "      <td>No</td>\n",
       "      <td>No</td>\n",
       "      <td>No</td>\n",
       "      <td>No</td>\n",
       "      <td>No</td>\n",
       "      <td>No</td>\n",
       "      <td>No</td>\n",
       "      <td>Yes</td>\n",
       "      <td>NO</td>\n",
       "    </tr>\n",
       "    <tr>\n",
       "      <th>101449</th>\n",
       "      <td>439577312</td>\n",
       "      <td>97708986</td>\n",
       "      <td>Caucasian</td>\n",
       "      <td>Female</td>\n",
       "      <td>[70-80)</td>\n",
       "      <td>[50-75)</td>\n",
       "      <td>1</td>\n",
       "      <td>3</td>\n",
       "      <td>7</td>\n",
       "      <td>13</td>\n",
       "      <td>...</td>\n",
       "      <td>No</td>\n",
       "      <td>No</td>\n",
       "      <td>No</td>\n",
       "      <td>No</td>\n",
       "      <td>No</td>\n",
       "      <td>No</td>\n",
       "      <td>No</td>\n",
       "      <td>Ch</td>\n",
       "      <td>Yes</td>\n",
       "      <td>NO</td>\n",
       "    </tr>\n",
       "    <tr>\n",
       "      <th>101456</th>\n",
       "      <td>439606454</td>\n",
       "      <td>113392368</td>\n",
       "      <td>AfricanAmerican</td>\n",
       "      <td>Male</td>\n",
       "      <td>[60-70)</td>\n",
       "      <td>[75-100)</td>\n",
       "      <td>2</td>\n",
       "      <td>1</td>\n",
       "      <td>1</td>\n",
       "      <td>2</td>\n",
       "      <td>...</td>\n",
       "      <td>No</td>\n",
       "      <td>No</td>\n",
       "      <td>No</td>\n",
       "      <td>No</td>\n",
       "      <td>No</td>\n",
       "      <td>No</td>\n",
       "      <td>No</td>\n",
       "      <td>No</td>\n",
       "      <td>No</td>\n",
       "      <td>&gt;30</td>\n",
       "    </tr>\n",
       "  </tbody>\n",
       "</table>\n",
       "<p>1043 rows × 50 columns</p>\n",
       "</div>"
      ],
      "text/plain": [
       "        encounter_id  patient_nbr             race  gender      age  \\\n",
       "27068       88792836    100654011        Caucasian  Female  [70-80)   \n",
       "27128       88986678     58682736        Caucasian    Male  [80-90)   \n",
       "27147       89032962     69250302        Caucasian    Male  [60-70)   \n",
       "27186       89191392     62022042        Caucasian    Male  [40-50)   \n",
       "27236       89277516     30950811        Caucasian    Male  [50-60)   \n",
       "...              ...          ...              ...     ...      ...   \n",
       "101238     436721264    123812618  AfricanAmerican    Male  [70-80)   \n",
       "101330     437928656    117516146        Caucasian    Male  [30-40)   \n",
       "101340     437959022      8420319        Caucasian    Male  [60-70)   \n",
       "101449     439577312     97708986        Caucasian  Female  [70-80)   \n",
       "101456     439606454    113392368  AfricanAmerican    Male  [60-70)   \n",
       "\n",
       "           weight  admission_type_id  discharge_disposition_id  \\\n",
       "27068    [75-100)                  3                         3   \n",
       "27128     [50-75)                  1                        11   \n",
       "27147   [100-125)                  1                         1   \n",
       "27186    [75-100)                  1                         3   \n",
       "27236   [100-125)                  3                         1   \n",
       "...           ...                ...                       ...   \n",
       "101238   [75-100)                  1                         1   \n",
       "101330  [100-125)                  1                         1   \n",
       "101340  [100-125)                  1                         1   \n",
       "101449    [50-75)                  1                         3   \n",
       "101456   [75-100)                  2                         1   \n",
       "\n",
       "        admission_source_id  time_in_hospital  ... citoglipton insulin  \\\n",
       "27068                     1                10  ...          No  Steady   \n",
       "27128                     5                 6  ...          No  Steady   \n",
       "27147                     7                 2  ...          No      No   \n",
       "27186                     7                 3  ...          No      No   \n",
       "27236                     1                 2  ...          No      No   \n",
       "...                     ...               ...  ...         ...     ...   \n",
       "101238                    7                 1  ...          No  Steady   \n",
       "101330                    7                 4  ...          No      No   \n",
       "101340                    7                 3  ...          No      No   \n",
       "101449                    7                13  ...          No      No   \n",
       "101456                    1                 2  ...          No      No   \n",
       "\n",
       "        glyburide-metformin  glipizide-metformin  glimepiride-pioglitazone  \\\n",
       "27068                    No                   No                        No   \n",
       "27128                    No                   No                        No   \n",
       "27147                    No                   No                        No   \n",
       "27186                    No                   No                        No   \n",
       "27236                    No                   No                        No   \n",
       "...                     ...                  ...                       ...   \n",
       "101238                   No                   No                        No   \n",
       "101330                   No                   No                        No   \n",
       "101340                   No                   No                        No   \n",
       "101449                   No                   No                        No   \n",
       "101456                   No                   No                        No   \n",
       "\n",
       "        metformin-rosiglitazone  metformin-pioglitazone  change diabetesMed  \\\n",
       "27068                        No                      No      Ch         Yes   \n",
       "27128                        No                      No      No         Yes   \n",
       "27147                        No                      No      No         Yes   \n",
       "27186                        No                      No      No         Yes   \n",
       "27236                        No                      No      No         Yes   \n",
       "...                         ...                     ...     ...         ...   \n",
       "101238                       No                      No      No         Yes   \n",
       "101330                       No                      No      No          No   \n",
       "101340                       No                      No      No         Yes   \n",
       "101449                       No                      No      Ch         Yes   \n",
       "101456                       No                      No      No          No   \n",
       "\n",
       "       readmitted  \n",
       "27068         <30  \n",
       "27128          NO  \n",
       "27147         >30  \n",
       "27186         >30  \n",
       "27236         >30  \n",
       "...           ...  \n",
       "101238         NO  \n",
       "101330         NO  \n",
       "101340         NO  \n",
       "101449         NO  \n",
       "101456        >30  \n",
       "\n",
       "[1043 rows x 50 columns]"
      ]
     },
     "execution_count": 3,
     "metadata": {},
     "output_type": "execute_result"
    }
   ],
   "source": [
    "dataset.replace(\"?\", np.nan, inplace=True)\n",
    "dataset.dropna()"
   ]
  },
  {
   "cell_type": "markdown",
   "id": "06141d85",
   "metadata": {},
   "source": [
    "If we drop all rows with missing data, we have only 1,043 rows left.\n",
    "We can't do that because we loose 99% of the dataset.\n",
    "Instead, we drop the columns which have a lot of missing data and seem to be irrelevant in order to predict our target."
   ]
  },
  {
   "cell_type": "code",
   "execution_count": 4,
   "id": "07e3ff7e",
   "metadata": {},
   "outputs": [
    {
     "name": "stdout",
     "output_type": "stream",
     "text": [
      "<class 'pandas.core.frame.DataFrame'>\n",
      "RangeIndex: 101766 entries, 0 to 101765\n",
      "Data columns (total 50 columns):\n",
      " #   Column                    Non-Null Count   Dtype \n",
      "---  ------                    --------------   ----- \n",
      " 0   encounter_id              101766 non-null  int64 \n",
      " 1   patient_nbr               101766 non-null  int64 \n",
      " 2   race                      99493 non-null   object\n",
      " 3   gender                    101766 non-null  object\n",
      " 4   age                       101766 non-null  object\n",
      " 5   weight                    3197 non-null    object\n",
      " 6   admission_type_id         101766 non-null  int64 \n",
      " 7   discharge_disposition_id  101766 non-null  int64 \n",
      " 8   admission_source_id       101766 non-null  int64 \n",
      " 9   time_in_hospital          101766 non-null  int64 \n",
      " 10  payer_code                61510 non-null   object\n",
      " 11  medical_specialty         51817 non-null   object\n",
      " 12  num_lab_procedures        101766 non-null  int64 \n",
      " 13  num_procedures            101766 non-null  int64 \n",
      " 14  num_medications           101766 non-null  int64 \n",
      " 15  number_outpatient         101766 non-null  int64 \n",
      " 16  number_emergency          101766 non-null  int64 \n",
      " 17  number_inpatient          101766 non-null  int64 \n",
      " 18  diag_1                    101745 non-null  object\n",
      " 19  diag_2                    101408 non-null  object\n",
      " 20  diag_3                    100343 non-null  object\n",
      " 21  number_diagnoses          101766 non-null  int64 \n",
      " 22  max_glu_serum             101766 non-null  object\n",
      " 23  A1Cresult                 101766 non-null  object\n",
      " 24  metformin                 101766 non-null  object\n",
      " 25  repaglinide               101766 non-null  object\n",
      " 26  nateglinide               101766 non-null  object\n",
      " 27  chlorpropamide            101766 non-null  object\n",
      " 28  glimepiride               101766 non-null  object\n",
      " 29  acetohexamide             101766 non-null  object\n",
      " 30  glipizide                 101766 non-null  object\n",
      " 31  glyburide                 101766 non-null  object\n",
      " 32  tolbutamide               101766 non-null  object\n",
      " 33  pioglitazone              101766 non-null  object\n",
      " 34  rosiglitazone             101766 non-null  object\n",
      " 35  acarbose                  101766 non-null  object\n",
      " 36  miglitol                  101766 non-null  object\n",
      " 37  troglitazone              101766 non-null  object\n",
      " 38  tolazamide                101766 non-null  object\n",
      " 39  examide                   101766 non-null  object\n",
      " 40  citoglipton               101766 non-null  object\n",
      " 41  insulin                   101766 non-null  object\n",
      " 42  glyburide-metformin       101766 non-null  object\n",
      " 43  glipizide-metformin       101766 non-null  object\n",
      " 44  glimepiride-pioglitazone  101766 non-null  object\n",
      " 45  metformin-rosiglitazone   101766 non-null  object\n",
      " 46  metformin-pioglitazone    101766 non-null  object\n",
      " 47  change                    101766 non-null  object\n",
      " 48  diabetesMed               101766 non-null  object\n",
      " 49  readmitted                101766 non-null  object\n",
      "dtypes: int64(13), object(37)\n",
      "memory usage: 38.8+ MB\n"
     ]
    }
   ],
   "source": [
    "dataset.info()"
   ]
  },
  {
   "cell_type": "code",
   "execution_count": 5,
   "id": "cce42295",
   "metadata": {},
   "outputs": [
    {
     "data": {
      "text/plain": [
       "encounter_id                0.000000\n",
       "patient_nbr                 0.000000\n",
       "race                        0.022336\n",
       "gender                      0.000000\n",
       "age                         0.000000\n",
       "weight                      0.968585\n",
       "admission_type_id           0.000000\n",
       "discharge_disposition_id    0.000000\n",
       "admission_source_id         0.000000\n",
       "time_in_hospital            0.000000\n",
       "payer_code                  0.395574\n",
       "medical_specialty           0.490822\n",
       "num_lab_procedures          0.000000\n",
       "num_procedures              0.000000\n",
       "num_medications             0.000000\n",
       "number_outpatient           0.000000\n",
       "number_emergency            0.000000\n",
       "number_inpatient            0.000000\n",
       "diag_1                      0.000206\n",
       "diag_2                      0.003518\n",
       "diag_3                      0.013983\n",
       "number_diagnoses            0.000000\n",
       "max_glu_serum               0.000000\n",
       "A1Cresult                   0.000000\n",
       "metformin                   0.000000\n",
       "repaglinide                 0.000000\n",
       "nateglinide                 0.000000\n",
       "chlorpropamide              0.000000\n",
       "glimepiride                 0.000000\n",
       "acetohexamide               0.000000\n",
       "glipizide                   0.000000\n",
       "glyburide                   0.000000\n",
       "tolbutamide                 0.000000\n",
       "pioglitazone                0.000000\n",
       "rosiglitazone               0.000000\n",
       "acarbose                    0.000000\n",
       "miglitol                    0.000000\n",
       "troglitazone                0.000000\n",
       "tolazamide                  0.000000\n",
       "examide                     0.000000\n",
       "citoglipton                 0.000000\n",
       "insulin                     0.000000\n",
       "glyburide-metformin         0.000000\n",
       "glipizide-metformin         0.000000\n",
       "glimepiride-pioglitazone    0.000000\n",
       "metformin-rosiglitazone     0.000000\n",
       "metformin-pioglitazone      0.000000\n",
       "change                      0.000000\n",
       "diabetesMed                 0.000000\n",
       "readmitted                  0.000000\n",
       "dtype: float64"
      ]
     },
     "execution_count": 5,
     "metadata": {},
     "output_type": "execute_result"
    }
   ],
   "source": [
    "missing_values = (len(dataset) - dataset.count())/len(dataset)\n",
    "missing_values"
   ]
  },
  {
   "cell_type": "markdown",
   "id": "bacffbd8",
   "metadata": {},
   "source": [
    "The *weight* column is missing in over 96% values, *payer_code* and *medical_specialty* also have a lot of missing values. The best thing is to drop them:"
   ]
  },
  {
   "cell_type": "code",
   "execution_count": 6,
   "id": "726f9a40",
   "metadata": {},
   "outputs": [
    {
     "data": {
      "text/plain": [
       "(98053, 47)"
      ]
     },
     "execution_count": 6,
     "metadata": {},
     "output_type": "execute_result"
    }
   ],
   "source": [
    "to_drop = [\"weight\", \"payer_code\", \"medical_specialty\"]\n",
    "dataset.drop(to_drop, axis=1, inplace=True)\n",
    "dataset.dropna(inplace=True)\n",
    "dataset.shape"
   ]
  },
  {
   "cell_type": "markdown",
   "id": "0ae8e580",
   "metadata": {},
   "source": [
    "We loose only 3,713 rows, in other words 3.65% of the data."
   ]
  },
  {
   "cell_type": "markdown",
   "id": "d6a2579e",
   "metadata": {},
   "source": [
    "<a name=\"part_2\">\n",
    "\n",
    "### 2. Feature Engineering\n",
    "---"
   ]
  },
  {
   "cell_type": "markdown",
   "id": "e8562d0b",
   "metadata": {},
   "source": [
    "#### 1) Expired patients"
   ]
  },
  {
   "cell_type": "markdown",
   "id": "80f33e73",
   "metadata": {},
   "source": [
    "We want to predict readmissions, but there are patients who died during the hospital admissions. These patients can't be readmitted.\n",
    "All the discharge dispositions where \"Expired\" is mentioned are concerned."
   ]
  },
  {
   "cell_type": "code",
   "execution_count": 7,
   "id": "f241f620",
   "metadata": {},
   "outputs": [
    {
     "data": {
      "text/plain": [
       "array(['NO'], dtype=object)"
      ]
     },
     "execution_count": 7,
     "metadata": {},
     "output_type": "execute_result"
    }
   ],
   "source": [
    "dead_patients = dataset.loc[dataset.discharge_disposition_id.isin([11, 19, 20, 21])]\n",
    "dead_patients[\"readmitted\"].unique()"
   ]
  },
  {
   "cell_type": "markdown",
   "id": "94993169",
   "metadata": {},
   "source": [
    "Indeed, we see that all the dead patients have the \"NO\" value in the *readmitted* column. We remove these patients."
   ]
  },
  {
   "cell_type": "code",
   "execution_count": 8,
   "id": "a9ca7df1",
   "metadata": {},
   "outputs": [
    {
     "data": {
      "text/html": [
       "<div>\n",
       "<style scoped>\n",
       "    .dataframe tbody tr th:only-of-type {\n",
       "        vertical-align: middle;\n",
       "    }\n",
       "\n",
       "    .dataframe tbody tr th {\n",
       "        vertical-align: top;\n",
       "    }\n",
       "\n",
       "    .dataframe thead th {\n",
       "        text-align: right;\n",
       "    }\n",
       "</style>\n",
       "<table border=\"1\" class=\"dataframe\">\n",
       "  <thead>\n",
       "    <tr style=\"text-align: right;\">\n",
       "      <th></th>\n",
       "      <th>encounter_id</th>\n",
       "      <th>patient_nbr</th>\n",
       "      <th>race</th>\n",
       "      <th>gender</th>\n",
       "      <th>age</th>\n",
       "      <th>admission_type_id</th>\n",
       "      <th>discharge_disposition_id</th>\n",
       "      <th>admission_source_id</th>\n",
       "      <th>time_in_hospital</th>\n",
       "      <th>num_lab_procedures</th>\n",
       "      <th>...</th>\n",
       "      <th>citoglipton</th>\n",
       "      <th>insulin</th>\n",
       "      <th>glyburide-metformin</th>\n",
       "      <th>glipizide-metformin</th>\n",
       "      <th>glimepiride-pioglitazone</th>\n",
       "      <th>metformin-rosiglitazone</th>\n",
       "      <th>metformin-pioglitazone</th>\n",
       "      <th>change</th>\n",
       "      <th>diabetesMed</th>\n",
       "      <th>readmitted</th>\n",
       "    </tr>\n",
       "  </thead>\n",
       "  <tbody>\n",
       "    <tr>\n",
       "      <th>1</th>\n",
       "      <td>149190</td>\n",
       "      <td>55629189</td>\n",
       "      <td>Caucasian</td>\n",
       "      <td>Female</td>\n",
       "      <td>[10-20)</td>\n",
       "      <td>1</td>\n",
       "      <td>1</td>\n",
       "      <td>7</td>\n",
       "      <td>3</td>\n",
       "      <td>59</td>\n",
       "      <td>...</td>\n",
       "      <td>No</td>\n",
       "      <td>Up</td>\n",
       "      <td>No</td>\n",
       "      <td>No</td>\n",
       "      <td>No</td>\n",
       "      <td>No</td>\n",
       "      <td>No</td>\n",
       "      <td>Ch</td>\n",
       "      <td>Yes</td>\n",
       "      <td>&gt;30</td>\n",
       "    </tr>\n",
       "    <tr>\n",
       "      <th>2</th>\n",
       "      <td>64410</td>\n",
       "      <td>86047875</td>\n",
       "      <td>AfricanAmerican</td>\n",
       "      <td>Female</td>\n",
       "      <td>[20-30)</td>\n",
       "      <td>1</td>\n",
       "      <td>1</td>\n",
       "      <td>7</td>\n",
       "      <td>2</td>\n",
       "      <td>11</td>\n",
       "      <td>...</td>\n",
       "      <td>No</td>\n",
       "      <td>No</td>\n",
       "      <td>No</td>\n",
       "      <td>No</td>\n",
       "      <td>No</td>\n",
       "      <td>No</td>\n",
       "      <td>No</td>\n",
       "      <td>No</td>\n",
       "      <td>Yes</td>\n",
       "      <td>NO</td>\n",
       "    </tr>\n",
       "    <tr>\n",
       "      <th>3</th>\n",
       "      <td>500364</td>\n",
       "      <td>82442376</td>\n",
       "      <td>Caucasian</td>\n",
       "      <td>Male</td>\n",
       "      <td>[30-40)</td>\n",
       "      <td>1</td>\n",
       "      <td>1</td>\n",
       "      <td>7</td>\n",
       "      <td>2</td>\n",
       "      <td>44</td>\n",
       "      <td>...</td>\n",
       "      <td>No</td>\n",
       "      <td>Up</td>\n",
       "      <td>No</td>\n",
       "      <td>No</td>\n",
       "      <td>No</td>\n",
       "      <td>No</td>\n",
       "      <td>No</td>\n",
       "      <td>Ch</td>\n",
       "      <td>Yes</td>\n",
       "      <td>NO</td>\n",
       "    </tr>\n",
       "    <tr>\n",
       "      <th>4</th>\n",
       "      <td>16680</td>\n",
       "      <td>42519267</td>\n",
       "      <td>Caucasian</td>\n",
       "      <td>Male</td>\n",
       "      <td>[40-50)</td>\n",
       "      <td>1</td>\n",
       "      <td>1</td>\n",
       "      <td>7</td>\n",
       "      <td>1</td>\n",
       "      <td>51</td>\n",
       "      <td>...</td>\n",
       "      <td>No</td>\n",
       "      <td>Steady</td>\n",
       "      <td>No</td>\n",
       "      <td>No</td>\n",
       "      <td>No</td>\n",
       "      <td>No</td>\n",
       "      <td>No</td>\n",
       "      <td>Ch</td>\n",
       "      <td>Yes</td>\n",
       "      <td>NO</td>\n",
       "    </tr>\n",
       "    <tr>\n",
       "      <th>5</th>\n",
       "      <td>35754</td>\n",
       "      <td>82637451</td>\n",
       "      <td>Caucasian</td>\n",
       "      <td>Male</td>\n",
       "      <td>[50-60)</td>\n",
       "      <td>2</td>\n",
       "      <td>1</td>\n",
       "      <td>2</td>\n",
       "      <td>3</td>\n",
       "      <td>31</td>\n",
       "      <td>...</td>\n",
       "      <td>No</td>\n",
       "      <td>Steady</td>\n",
       "      <td>No</td>\n",
       "      <td>No</td>\n",
       "      <td>No</td>\n",
       "      <td>No</td>\n",
       "      <td>No</td>\n",
       "      <td>No</td>\n",
       "      <td>Yes</td>\n",
       "      <td>&gt;30</td>\n",
       "    </tr>\n",
       "    <tr>\n",
       "      <th>...</th>\n",
       "      <td>...</td>\n",
       "      <td>...</td>\n",
       "      <td>...</td>\n",
       "      <td>...</td>\n",
       "      <td>...</td>\n",
       "      <td>...</td>\n",
       "      <td>...</td>\n",
       "      <td>...</td>\n",
       "      <td>...</td>\n",
       "      <td>...</td>\n",
       "      <td>...</td>\n",
       "      <td>...</td>\n",
       "      <td>...</td>\n",
       "      <td>...</td>\n",
       "      <td>...</td>\n",
       "      <td>...</td>\n",
       "      <td>...</td>\n",
       "      <td>...</td>\n",
       "      <td>...</td>\n",
       "      <td>...</td>\n",
       "      <td>...</td>\n",
       "    </tr>\n",
       "    <tr>\n",
       "      <th>101761</th>\n",
       "      <td>443847548</td>\n",
       "      <td>100162476</td>\n",
       "      <td>AfricanAmerican</td>\n",
       "      <td>Male</td>\n",
       "      <td>[70-80)</td>\n",
       "      <td>1</td>\n",
       "      <td>3</td>\n",
       "      <td>7</td>\n",
       "      <td>3</td>\n",
       "      <td>51</td>\n",
       "      <td>...</td>\n",
       "      <td>No</td>\n",
       "      <td>Down</td>\n",
       "      <td>No</td>\n",
       "      <td>No</td>\n",
       "      <td>No</td>\n",
       "      <td>No</td>\n",
       "      <td>No</td>\n",
       "      <td>Ch</td>\n",
       "      <td>Yes</td>\n",
       "      <td>&gt;30</td>\n",
       "    </tr>\n",
       "    <tr>\n",
       "      <th>101762</th>\n",
       "      <td>443847782</td>\n",
       "      <td>74694222</td>\n",
       "      <td>AfricanAmerican</td>\n",
       "      <td>Female</td>\n",
       "      <td>[80-90)</td>\n",
       "      <td>1</td>\n",
       "      <td>4</td>\n",
       "      <td>5</td>\n",
       "      <td>5</td>\n",
       "      <td>33</td>\n",
       "      <td>...</td>\n",
       "      <td>No</td>\n",
       "      <td>Steady</td>\n",
       "      <td>No</td>\n",
       "      <td>No</td>\n",
       "      <td>No</td>\n",
       "      <td>No</td>\n",
       "      <td>No</td>\n",
       "      <td>No</td>\n",
       "      <td>Yes</td>\n",
       "      <td>NO</td>\n",
       "    </tr>\n",
       "    <tr>\n",
       "      <th>101763</th>\n",
       "      <td>443854148</td>\n",
       "      <td>41088789</td>\n",
       "      <td>Caucasian</td>\n",
       "      <td>Male</td>\n",
       "      <td>[70-80)</td>\n",
       "      <td>1</td>\n",
       "      <td>1</td>\n",
       "      <td>7</td>\n",
       "      <td>1</td>\n",
       "      <td>53</td>\n",
       "      <td>...</td>\n",
       "      <td>No</td>\n",
       "      <td>Down</td>\n",
       "      <td>No</td>\n",
       "      <td>No</td>\n",
       "      <td>No</td>\n",
       "      <td>No</td>\n",
       "      <td>No</td>\n",
       "      <td>Ch</td>\n",
       "      <td>Yes</td>\n",
       "      <td>NO</td>\n",
       "    </tr>\n",
       "    <tr>\n",
       "      <th>101764</th>\n",
       "      <td>443857166</td>\n",
       "      <td>31693671</td>\n",
       "      <td>Caucasian</td>\n",
       "      <td>Female</td>\n",
       "      <td>[80-90)</td>\n",
       "      <td>2</td>\n",
       "      <td>3</td>\n",
       "      <td>7</td>\n",
       "      <td>10</td>\n",
       "      <td>45</td>\n",
       "      <td>...</td>\n",
       "      <td>No</td>\n",
       "      <td>Up</td>\n",
       "      <td>No</td>\n",
       "      <td>No</td>\n",
       "      <td>No</td>\n",
       "      <td>No</td>\n",
       "      <td>No</td>\n",
       "      <td>Ch</td>\n",
       "      <td>Yes</td>\n",
       "      <td>NO</td>\n",
       "    </tr>\n",
       "    <tr>\n",
       "      <th>101765</th>\n",
       "      <td>443867222</td>\n",
       "      <td>175429310</td>\n",
       "      <td>Caucasian</td>\n",
       "      <td>Male</td>\n",
       "      <td>[70-80)</td>\n",
       "      <td>1</td>\n",
       "      <td>1</td>\n",
       "      <td>7</td>\n",
       "      <td>6</td>\n",
       "      <td>13</td>\n",
       "      <td>...</td>\n",
       "      <td>No</td>\n",
       "      <td>No</td>\n",
       "      <td>No</td>\n",
       "      <td>No</td>\n",
       "      <td>No</td>\n",
       "      <td>No</td>\n",
       "      <td>No</td>\n",
       "      <td>No</td>\n",
       "      <td>No</td>\n",
       "      <td>NO</td>\n",
       "    </tr>\n",
       "  </tbody>\n",
       "</table>\n",
       "<p>96437 rows × 47 columns</p>\n",
       "</div>"
      ],
      "text/plain": [
       "        encounter_id  patient_nbr             race  gender      age  \\\n",
       "1             149190     55629189        Caucasian  Female  [10-20)   \n",
       "2              64410     86047875  AfricanAmerican  Female  [20-30)   \n",
       "3             500364     82442376        Caucasian    Male  [30-40)   \n",
       "4              16680     42519267        Caucasian    Male  [40-50)   \n",
       "5              35754     82637451        Caucasian    Male  [50-60)   \n",
       "...              ...          ...              ...     ...      ...   \n",
       "101761     443847548    100162476  AfricanAmerican    Male  [70-80)   \n",
       "101762     443847782     74694222  AfricanAmerican  Female  [80-90)   \n",
       "101763     443854148     41088789        Caucasian    Male  [70-80)   \n",
       "101764     443857166     31693671        Caucasian  Female  [80-90)   \n",
       "101765     443867222    175429310        Caucasian    Male  [70-80)   \n",
       "\n",
       "        admission_type_id  discharge_disposition_id  admission_source_id  \\\n",
       "1                       1                         1                    7   \n",
       "2                       1                         1                    7   \n",
       "3                       1                         1                    7   \n",
       "4                       1                         1                    7   \n",
       "5                       2                         1                    2   \n",
       "...                   ...                       ...                  ...   \n",
       "101761                  1                         3                    7   \n",
       "101762                  1                         4                    5   \n",
       "101763                  1                         1                    7   \n",
       "101764                  2                         3                    7   \n",
       "101765                  1                         1                    7   \n",
       "\n",
       "        time_in_hospital  num_lab_procedures  ...  citoglipton  insulin  \\\n",
       "1                      3                  59  ...           No       Up   \n",
       "2                      2                  11  ...           No       No   \n",
       "3                      2                  44  ...           No       Up   \n",
       "4                      1                  51  ...           No   Steady   \n",
       "5                      3                  31  ...           No   Steady   \n",
       "...                  ...                 ...  ...          ...      ...   \n",
       "101761                 3                  51  ...           No     Down   \n",
       "101762                 5                  33  ...           No   Steady   \n",
       "101763                 1                  53  ...           No     Down   \n",
       "101764                10                  45  ...           No       Up   \n",
       "101765                 6                  13  ...           No       No   \n",
       "\n",
       "        glyburide-metformin  glipizide-metformin  glimepiride-pioglitazone  \\\n",
       "1                        No                   No                        No   \n",
       "2                        No                   No                        No   \n",
       "3                        No                   No                        No   \n",
       "4                        No                   No                        No   \n",
       "5                        No                   No                        No   \n",
       "...                     ...                  ...                       ...   \n",
       "101761                   No                   No                        No   \n",
       "101762                   No                   No                        No   \n",
       "101763                   No                   No                        No   \n",
       "101764                   No                   No                        No   \n",
       "101765                   No                   No                        No   \n",
       "\n",
       "       metformin-rosiglitazone metformin-pioglitazone change  diabetesMed  \\\n",
       "1                           No                     No     Ch          Yes   \n",
       "2                           No                     No     No          Yes   \n",
       "3                           No                     No     Ch          Yes   \n",
       "4                           No                     No     Ch          Yes   \n",
       "5                           No                     No     No          Yes   \n",
       "...                        ...                    ...    ...          ...   \n",
       "101761                      No                     No     Ch          Yes   \n",
       "101762                      No                     No     No          Yes   \n",
       "101763                      No                     No     Ch          Yes   \n",
       "101764                      No                     No     Ch          Yes   \n",
       "101765                      No                     No     No           No   \n",
       "\n",
       "       readmitted  \n",
       "1             >30  \n",
       "2              NO  \n",
       "3              NO  \n",
       "4              NO  \n",
       "5             >30  \n",
       "...           ...  \n",
       "101761        >30  \n",
       "101762         NO  \n",
       "101763         NO  \n",
       "101764         NO  \n",
       "101765         NO  \n",
       "\n",
       "[96437 rows x 47 columns]"
      ]
     },
     "execution_count": 8,
     "metadata": {},
     "output_type": "execute_result"
    }
   ],
   "source": [
    "dataset.drop(dataset[dataset.discharge_disposition_id.isin([11, 19, 20, 21])].index, inplace=True)\n",
    "dataset"
   ]
  },
  {
   "cell_type": "markdown",
   "id": "66f16d05",
   "metadata": {},
   "source": [
    "#### 2) Encounter_id and patient_nbr"
   ]
  },
  {
   "cell_type": "markdown",
   "id": "0a9fe162",
   "metadata": {},
   "source": [
    "We can remove the *encounter_id* column and only keep the *patient_nbr* column, because some patients in the dataset may had more than one encounter and only the patient number is unique for each patient."
   ]
  },
  {
   "cell_type": "code",
   "execution_count": 9,
   "id": "99b34207",
   "metadata": {},
   "outputs": [
    {
     "data": {
      "text/html": [
       "<div>\n",
       "<style scoped>\n",
       "    .dataframe tbody tr th:only-of-type {\n",
       "        vertical-align: middle;\n",
       "    }\n",
       "\n",
       "    .dataframe tbody tr th {\n",
       "        vertical-align: top;\n",
       "    }\n",
       "\n",
       "    .dataframe thead th {\n",
       "        text-align: right;\n",
       "    }\n",
       "</style>\n",
       "<table border=\"1\" class=\"dataframe\">\n",
       "  <thead>\n",
       "    <tr style=\"text-align: right;\">\n",
       "      <th></th>\n",
       "      <th>patient_nbr</th>\n",
       "      <th>race</th>\n",
       "      <th>gender</th>\n",
       "      <th>age</th>\n",
       "      <th>admission_type_id</th>\n",
       "      <th>discharge_disposition_id</th>\n",
       "      <th>admission_source_id</th>\n",
       "      <th>time_in_hospital</th>\n",
       "      <th>num_lab_procedures</th>\n",
       "      <th>num_procedures</th>\n",
       "      <th>...</th>\n",
       "      <th>citoglipton</th>\n",
       "      <th>insulin</th>\n",
       "      <th>glyburide-metformin</th>\n",
       "      <th>glipizide-metformin</th>\n",
       "      <th>glimepiride-pioglitazone</th>\n",
       "      <th>metformin-rosiglitazone</th>\n",
       "      <th>metformin-pioglitazone</th>\n",
       "      <th>change</th>\n",
       "      <th>diabetesMed</th>\n",
       "      <th>readmitted</th>\n",
       "    </tr>\n",
       "  </thead>\n",
       "  <tbody>\n",
       "    <tr>\n",
       "      <th>1</th>\n",
       "      <td>55629189</td>\n",
       "      <td>Caucasian</td>\n",
       "      <td>Female</td>\n",
       "      <td>[10-20)</td>\n",
       "      <td>1</td>\n",
       "      <td>1</td>\n",
       "      <td>7</td>\n",
       "      <td>3</td>\n",
       "      <td>59</td>\n",
       "      <td>0</td>\n",
       "      <td>...</td>\n",
       "      <td>No</td>\n",
       "      <td>Up</td>\n",
       "      <td>No</td>\n",
       "      <td>No</td>\n",
       "      <td>No</td>\n",
       "      <td>No</td>\n",
       "      <td>No</td>\n",
       "      <td>Ch</td>\n",
       "      <td>Yes</td>\n",
       "      <td>&gt;30</td>\n",
       "    </tr>\n",
       "    <tr>\n",
       "      <th>2</th>\n",
       "      <td>86047875</td>\n",
       "      <td>AfricanAmerican</td>\n",
       "      <td>Female</td>\n",
       "      <td>[20-30)</td>\n",
       "      <td>1</td>\n",
       "      <td>1</td>\n",
       "      <td>7</td>\n",
       "      <td>2</td>\n",
       "      <td>11</td>\n",
       "      <td>5</td>\n",
       "      <td>...</td>\n",
       "      <td>No</td>\n",
       "      <td>No</td>\n",
       "      <td>No</td>\n",
       "      <td>No</td>\n",
       "      <td>No</td>\n",
       "      <td>No</td>\n",
       "      <td>No</td>\n",
       "      <td>No</td>\n",
       "      <td>Yes</td>\n",
       "      <td>NO</td>\n",
       "    </tr>\n",
       "    <tr>\n",
       "      <th>3</th>\n",
       "      <td>82442376</td>\n",
       "      <td>Caucasian</td>\n",
       "      <td>Male</td>\n",
       "      <td>[30-40)</td>\n",
       "      <td>1</td>\n",
       "      <td>1</td>\n",
       "      <td>7</td>\n",
       "      <td>2</td>\n",
       "      <td>44</td>\n",
       "      <td>1</td>\n",
       "      <td>...</td>\n",
       "      <td>No</td>\n",
       "      <td>Up</td>\n",
       "      <td>No</td>\n",
       "      <td>No</td>\n",
       "      <td>No</td>\n",
       "      <td>No</td>\n",
       "      <td>No</td>\n",
       "      <td>Ch</td>\n",
       "      <td>Yes</td>\n",
       "      <td>NO</td>\n",
       "    </tr>\n",
       "    <tr>\n",
       "      <th>4</th>\n",
       "      <td>42519267</td>\n",
       "      <td>Caucasian</td>\n",
       "      <td>Male</td>\n",
       "      <td>[40-50)</td>\n",
       "      <td>1</td>\n",
       "      <td>1</td>\n",
       "      <td>7</td>\n",
       "      <td>1</td>\n",
       "      <td>51</td>\n",
       "      <td>0</td>\n",
       "      <td>...</td>\n",
       "      <td>No</td>\n",
       "      <td>Steady</td>\n",
       "      <td>No</td>\n",
       "      <td>No</td>\n",
       "      <td>No</td>\n",
       "      <td>No</td>\n",
       "      <td>No</td>\n",
       "      <td>Ch</td>\n",
       "      <td>Yes</td>\n",
       "      <td>NO</td>\n",
       "    </tr>\n",
       "    <tr>\n",
       "      <th>5</th>\n",
       "      <td>82637451</td>\n",
       "      <td>Caucasian</td>\n",
       "      <td>Male</td>\n",
       "      <td>[50-60)</td>\n",
       "      <td>2</td>\n",
       "      <td>1</td>\n",
       "      <td>2</td>\n",
       "      <td>3</td>\n",
       "      <td>31</td>\n",
       "      <td>6</td>\n",
       "      <td>...</td>\n",
       "      <td>No</td>\n",
       "      <td>Steady</td>\n",
       "      <td>No</td>\n",
       "      <td>No</td>\n",
       "      <td>No</td>\n",
       "      <td>No</td>\n",
       "      <td>No</td>\n",
       "      <td>No</td>\n",
       "      <td>Yes</td>\n",
       "      <td>&gt;30</td>\n",
       "    </tr>\n",
       "  </tbody>\n",
       "</table>\n",
       "<p>5 rows × 46 columns</p>\n",
       "</div>"
      ],
      "text/plain": [
       "   patient_nbr             race  gender      age  admission_type_id  \\\n",
       "1     55629189        Caucasian  Female  [10-20)                  1   \n",
       "2     86047875  AfricanAmerican  Female  [20-30)                  1   \n",
       "3     82442376        Caucasian    Male  [30-40)                  1   \n",
       "4     42519267        Caucasian    Male  [40-50)                  1   \n",
       "5     82637451        Caucasian    Male  [50-60)                  2   \n",
       "\n",
       "   discharge_disposition_id  admission_source_id  time_in_hospital  \\\n",
       "1                         1                    7                 3   \n",
       "2                         1                    7                 2   \n",
       "3                         1                    7                 2   \n",
       "4                         1                    7                 1   \n",
       "5                         1                    2                 3   \n",
       "\n",
       "   num_lab_procedures  num_procedures  ...  citoglipton  insulin  \\\n",
       "1                  59               0  ...           No       Up   \n",
       "2                  11               5  ...           No       No   \n",
       "3                  44               1  ...           No       Up   \n",
       "4                  51               0  ...           No   Steady   \n",
       "5                  31               6  ...           No   Steady   \n",
       "\n",
       "   glyburide-metformin  glipizide-metformin glimepiride-pioglitazone  \\\n",
       "1                   No                   No                       No   \n",
       "2                   No                   No                       No   \n",
       "3                   No                   No                       No   \n",
       "4                   No                   No                       No   \n",
       "5                   No                   No                       No   \n",
       "\n",
       "  metformin-rosiglitazone metformin-pioglitazone  change diabetesMed  \\\n",
       "1                      No                     No      Ch         Yes   \n",
       "2                      No                     No      No         Yes   \n",
       "3                      No                     No      Ch         Yes   \n",
       "4                      No                     No      Ch         Yes   \n",
       "5                      No                     No      No         Yes   \n",
       "\n",
       "  readmitted  \n",
       "1        >30  \n",
       "2         NO  \n",
       "3         NO  \n",
       "4         NO  \n",
       "5        >30  \n",
       "\n",
       "[5 rows x 46 columns]"
      ]
     },
     "execution_count": 9,
     "metadata": {},
     "output_type": "execute_result"
    }
   ],
   "source": [
    "dataset.drop(\"encounter_id\", axis=1, inplace=True)\n",
    "dataset.head()"
   ]
  },
  {
   "cell_type": "markdown",
   "id": "9587d14c",
   "metadata": {},
   "source": [
    "We also want to remove patients who had several encounters."
   ]
  },
  {
   "cell_type": "code",
   "execution_count": 10,
   "id": "1d5f1bf3",
   "metadata": {},
   "outputs": [],
   "source": [
    "dataset.drop_duplicates(subset= [\"patient_nbr\"], keep = \"first\", inplace=True)"
   ]
  },
  {
   "cell_type": "markdown",
   "id": "8a96c5fd",
   "metadata": {},
   "source": [
    "#### 3) Binary variables"
   ]
  },
  {
   "cell_type": "markdown",
   "id": "11231cb8",
   "metadata": {},
   "source": [
    "We change the values of binary variables to only have 0 and 1."
   ]
  },
  {
   "cell_type": "code",
   "execution_count": 11,
   "id": "386d892a",
   "metadata": {},
   "outputs": [],
   "source": [
    "dataset[\"gender\"] = dataset[\"gender\"].replace(\"Male\", 1)\n",
    "dataset[\"gender\"] = dataset[\"gender\"].replace(\"Female\", 0)\n",
    "\n",
    "dataset[\"change\"] = dataset[\"change\"].replace(\"Ch\", 1)\n",
    "dataset[\"change\"] = dataset[\"change\"].replace(\"No\", 0)\n",
    "\n",
    "dataset[\"diabetesMed\"] = dataset[\"diabetesMed\"].replace(\"Yes\", 1)\n",
    "dataset[\"diabetesMed\"] = dataset[\"diabetesMed\"].replace(\"No\", 0)"
   ]
  },
  {
   "cell_type": "code",
   "execution_count": 12,
   "id": "bd151fde",
   "metadata": {},
   "outputs": [
    {
     "data": {
      "text/plain": [
       "0                  36038\n",
       "1                  31535\n",
       "Unknown/Invalid        1\n",
       "Name: gender, dtype: int64"
      ]
     },
     "execution_count": 12,
     "metadata": {},
     "output_type": "execute_result"
    }
   ],
   "source": [
    "dataset.gender.value_counts()"
   ]
  },
  {
   "cell_type": "code",
   "execution_count": 13,
   "id": "d520e72e",
   "metadata": {},
   "outputs": [],
   "source": [
    "idx_to_del = dataset[ dataset[\"gender\"] == \"Unknown/Invalid\" ].index\n",
    "dataset.drop(idx_to_del, inplace=True)\n",
    "dataset[\"gender\"] = dataset[\"gender\"].astype(int)"
   ]
  },
  {
   "cell_type": "code",
   "execution_count": 14,
   "id": "1aef920a",
   "metadata": {},
   "outputs": [
    {
     "data": {
      "text/plain": [
       "0    36038\n",
       "1    31535\n",
       "Name: gender, dtype: int64"
      ]
     },
     "execution_count": 14,
     "metadata": {},
     "output_type": "execute_result"
    }
   ],
   "source": [
    "dataset.gender.value_counts()"
   ]
  },
  {
   "cell_type": "code",
   "execution_count": 15,
   "id": "613c0e61",
   "metadata": {},
   "outputs": [
    {
     "data": {
      "text/plain": [
       "0    37219\n",
       "1    30354\n",
       "Name: change, dtype: int64"
      ]
     },
     "execution_count": 15,
     "metadata": {},
     "output_type": "execute_result"
    }
   ],
   "source": [
    "dataset.change.value_counts()"
   ]
  },
  {
   "cell_type": "code",
   "execution_count": 16,
   "id": "df7783ce",
   "metadata": {},
   "outputs": [
    {
     "data": {
      "text/plain": [
       "1    51310\n",
       "0    16263\n",
       "Name: diabetesMed, dtype: int64"
      ]
     },
     "execution_count": 16,
     "metadata": {},
     "output_type": "execute_result"
    }
   ],
   "source": [
    "dataset.diabetesMed.value_counts()"
   ]
  },
  {
   "cell_type": "markdown",
   "id": "62f8dbdb",
   "metadata": {},
   "source": [
    "#### 4) Simplifying the IDs columns: admission_type_id, discharge_disposition_id and admission_source_id"
   ]
  },
  {
   "cell_type": "markdown",
   "id": "1d86a227",
   "metadata": {},
   "source": [
    "##### 4.1) Admission type:"
   ]
  },
  {
   "cell_type": "code",
   "execution_count": 17,
   "id": "40b39ed5",
   "metadata": {},
   "outputs": [
    {
     "data": {
      "text/plain": [
       "1    34416\n",
       "3    13318\n",
       "2    12113\n",
       "6     4384\n",
       "5     3033\n",
       "8      283\n",
       "7       17\n",
       "4        9\n",
       "Name: admission_type_id, dtype: int64"
      ]
     },
     "execution_count": 17,
     "metadata": {},
     "output_type": "execute_result"
    }
   ],
   "source": [
    "dataset.admission_type_id.value_counts()"
   ]
  },
  {
   "cell_type": "code",
   "execution_count": 18,
   "id": "e9f19197",
   "metadata": {},
   "outputs": [
    {
     "data": {
      "text/plain": [
       "{0: 'Other',\n",
       " 1: 'Emergency',\n",
       " 2: 'Urgent',\n",
       " 3: 'Elective',\n",
       " 4: 'Newborn',\n",
       " 5: 'Not Available',\n",
       " 6: None,\n",
       " 7: 'Trauma Center',\n",
       " 8: 'Not Mapped'}"
      ]
     },
     "execution_count": 18,
     "metadata": {},
     "output_type": "execute_result"
    }
   ],
   "source": [
    "info_admission_type"
   ]
  },
  {
   "cell_type": "markdown",
   "id": "8b1d5469",
   "metadata": {},
   "source": [
    "For the admission type, we can consider that \"Emergency\" and \"Urgent\" are equivalent, and we group the values \"Not Available\", \"NaN\", and \"Not Mapped\" under the same category \"Not Mapped\"."
   ]
  },
  {
   "cell_type": "code",
   "execution_count": 19,
   "id": "5b6948da",
   "metadata": {},
   "outputs": [],
   "source": [
    "dataset[\"admission_type_id\"].replace(2, 1, inplace=True)\n",
    "dataset[\"admission_type_id\"].replace(5, 0, inplace=True)\n",
    "dataset[\"admission_type_id\"].replace(6, 0, inplace=True)\n",
    "dataset[\"admission_type_id\"].replace(8, 0, inplace=True)"
   ]
  },
  {
   "cell_type": "code",
   "execution_count": 20,
   "id": "f9b1e908",
   "metadata": {},
   "outputs": [
    {
     "data": {
      "text/plain": [
       "1    46529\n",
       "3    13318\n",
       "0     7700\n",
       "7       17\n",
       "4        9\n",
       "Name: admission_type_id, dtype: int64"
      ]
     },
     "execution_count": 20,
     "metadata": {},
     "output_type": "execute_result"
    }
   ],
   "source": [
    "dataset.admission_type_id.value_counts()"
   ]
  },
  {
   "cell_type": "markdown",
   "id": "3d35cf5a",
   "metadata": {},
   "source": [
    "##### 4.2) Discharge dispostion:"
   ]
  },
  {
   "cell_type": "code",
   "execution_count": 21,
   "id": "6534ad26",
   "metadata": {},
   "outputs": [
    {
     "data": {
      "text/plain": [
       "1     42230\n",
       "3      8516\n",
       "6      8082\n",
       "18     2426\n",
       "2      1476\n",
       "22     1398\n",
       "5       865\n",
       "25      732\n",
       "4       495\n",
       "7       386\n",
       "23      254\n",
       "13      242\n",
       "14      215\n",
       "28       89\n",
       "8        71\n",
       "15       40\n",
       "24       25\n",
       "9         9\n",
       "17        8\n",
       "10        6\n",
       "16        3\n",
       "27        3\n",
       "12        2\n",
       "Name: discharge_disposition_id, dtype: int64"
      ]
     },
     "execution_count": 21,
     "metadata": {},
     "output_type": "execute_result"
    }
   ],
   "source": [
    "dataset.discharge_disposition_id.value_counts()"
   ]
  },
  {
   "cell_type": "code",
   "execution_count": 22,
   "id": "461757e6",
   "metadata": {},
   "outputs": [
    {
     "data": {
      "text/plain": [
       "{0: 'Other',\n",
       " 1: 'Discharged to home',\n",
       " 2: 'Discharged/transferred to another short term hospital',\n",
       " 3: 'Discharged/transferred to SNF',\n",
       " 4: 'Discharged/transferred to ICF',\n",
       " 5: 'Discharged/transferred to another type of inpatient care institution',\n",
       " 6: 'Discharged/transferred to home with home health service',\n",
       " 7: 'Left AMA',\n",
       " 8: 'Discharged/transferred to home under care of Home IV provider',\n",
       " 9: 'Admitted as an inpatient to this hospital',\n",
       " 10: 'Neonate discharged to another hospital for neonatal aftercare',\n",
       " 11: 'Expired',\n",
       " 12: 'Still patient or expected to return for outpatient services',\n",
       " 13: 'Hospice / home',\n",
       " 14: 'Hospice / medical facility',\n",
       " 15: 'Discharged/transferred within this institution to Medicare approved swing bed',\n",
       " 16: 'Discharged/transferred/referred another institution for outpatient services',\n",
       " 17: 'Discharged/transferred/referred to this institution for outpatient services',\n",
       " 18: None,\n",
       " 19: 'Expired at home. Medicaid only, hospice.',\n",
       " 20: 'Expired in a medical facility. Medicaid only, hospice.',\n",
       " 21: 'Expired, place unknown. Medicaid only, hospice.',\n",
       " 22: 'Discharged/transferred to another rehab fac including rehab units of a hospital .',\n",
       " 23: 'Discharged/transferred to a long term care hospital.',\n",
       " 24: 'Discharged/transferred to a nursing facility certified under Medicaid but not certified under Medicare.',\n",
       " 25: 'Not Mapped',\n",
       " 26: 'Unknown/Invalid',\n",
       " 30: 'Discharged/transferred to another Type of Health Care Institution not Defined Elsewhere',\n",
       " 27: 'Discharged/transferred to a federal health care facility.',\n",
       " 28: 'Discharged/transferred/referred to a psychiatric hospital of psychiatric distinct part unit of a hospital',\n",
       " 29: 'Discharged/transferred to a Critical Access Hospital (CAH).'}"
      ]
     },
     "execution_count": 22,
     "metadata": {},
     "output_type": "execute_result"
    }
   ],
   "source": [
    "info_discharge_disposition"
   ]
  },
  {
   "cell_type": "markdown",
   "id": "24a63ce7",
   "metadata": {},
   "source": [
    "For the discharged disposition, we can consider only 2 categories: the patients who returned home (= 1) or those who didn't (= 0)."
   ]
  },
  {
   "cell_type": "code",
   "execution_count": 23,
   "id": "092dd80d",
   "metadata": {},
   "outputs": [
    {
     "data": {
      "text/plain": [
       "1    42230\n",
       "0    25343\n",
       "Name: discharge_disposition_id, dtype: int64"
      ]
     },
     "execution_count": 23,
     "metadata": {},
     "output_type": "execute_result"
    }
   ],
   "source": [
    "dataset[\"discharge_disposition_id\"] = np.where(dataset.discharge_disposition_id == 1, 1, 0) \n",
    "dataset.discharge_disposition_id.value_counts()"
   ]
  },
  {
   "cell_type": "markdown",
   "id": "ccff89f6",
   "metadata": {},
   "source": [
    "##### 4.3) Admission source:"
   ]
  },
  {
   "cell_type": "code",
   "execution_count": 24,
   "id": "171fb45d",
   "metadata": {},
   "outputs": [
    {
     "data": {
      "text/plain": [
       "7     36429\n",
       "1     20895\n",
       "17     4726\n",
       "4      2345\n",
       "6      1482\n",
       "2       845\n",
       "5       508\n",
       "20      152\n",
       "3       129\n",
       "9        36\n",
       "8        10\n",
       "10        6\n",
       "22        4\n",
       "14        2\n",
       "25        2\n",
       "11        1\n",
       "13        1\n",
       "Name: admission_source_id, dtype: int64"
      ]
     },
     "execution_count": 24,
     "metadata": {},
     "output_type": "execute_result"
    }
   ],
   "source": [
    "dataset.admission_source_id.value_counts()"
   ]
  },
  {
   "cell_type": "code",
   "execution_count": 25,
   "id": "787fd801",
   "metadata": {},
   "outputs": [
    {
     "data": {
      "text/plain": [
       "{0: 'Other',\n",
       " 1: 'Physician Referral',\n",
       " 2: 'Clinic Referral',\n",
       " 3: 'HMO Referral',\n",
       " 4: 'Transfer from a hospital',\n",
       " 5: 'Transfer from a Skilled Nursing Facility (SNF)',\n",
       " 6: 'Transfer from another health care facility',\n",
       " 7: 'Emergency Room',\n",
       " 8: 'Court/Law Enforcement',\n",
       " 9: 'Not Available',\n",
       " 10: 'Transfer from critial access hospital',\n",
       " 11: 'Normal Delivery',\n",
       " 12: 'Premature Delivery',\n",
       " 13: 'Sick Baby',\n",
       " 14: 'Extramural Birth',\n",
       " 15: 'Not Available',\n",
       " 17: None,\n",
       " 18: 'Transfer From Another Home Health Agency',\n",
       " 19: 'Readmission to Same Home Health Agency',\n",
       " 20: 'Not Mapped',\n",
       " 21: 'Unknown/Invalid',\n",
       " 22: 'Transfer from hospital inpt/same fac reslt in a sep claim',\n",
       " 23: 'Born inside this hospital',\n",
       " 24: 'Born outside this hospital',\n",
       " 25: 'Transfer from Ambulatory Surgery Center',\n",
       " 26: 'Transfer from Hospice'}"
      ]
     },
     "execution_count": 25,
     "metadata": {},
     "output_type": "execute_result"
    }
   ],
   "source": [
    "info_admission_source"
   ]
  },
  {
   "cell_type": "markdown",
   "id": "a84dddea",
   "metadata": {},
   "source": [
    "For the admission source, we can group 'Physician Referral', 'Clinic Referral' and 'HMO Referral' under 'Physician Referral', all the transfers from another facility under 'transfer from a hospital', "
   ]
  },
  {
   "cell_type": "code",
   "execution_count": 26,
   "id": "bd37e690",
   "metadata": {},
   "outputs": [],
   "source": [
    "dataset[\"admission_source_id\"].replace(2, 1, inplace=True)\n",
    "dataset[\"admission_source_id\"].replace(3, 1, inplace=True)\n",
    "dataset[\"admission_source_id\"].replace(5, 4, inplace=True)\n",
    "dataset[\"admission_source_id\"].replace(6, 4, inplace=True)\n",
    "dataset[\"admission_source_id\"].replace(10, 4, inplace=True)\n",
    "dataset[\"admission_source_id\"].replace(22, 4, inplace=True)\n",
    "dataset[\"admission_source_id\"].replace(25, 4, inplace=True)"
   ]
  },
  {
   "cell_type": "code",
   "execution_count": 27,
   "id": "4f4c65dc",
   "metadata": {},
   "outputs": [
    {
     "data": {
      "text/plain": [
       "7    36429\n",
       "1    21869\n",
       "0     4918\n",
       "4     4347\n",
       "8       10\n",
       "Name: admission_source_id, dtype: int64"
      ]
     },
     "execution_count": 27,
     "metadata": {},
     "output_type": "execute_result"
    }
   ],
   "source": [
    "dataset[\"admission_source_id\"] = np.where(dataset.admission_source_id.isin([1, 4, 7, 8]), dataset.admission_source_id, 0) \n",
    "dataset.admission_source_id.value_counts()"
   ]
  },
  {
   "cell_type": "markdown",
   "id": "204a46d0",
   "metadata": {},
   "source": [
    "Finally, we add their labels:"
   ]
  },
  {
   "cell_type": "code",
   "execution_count": 28,
   "id": "f793c80e",
   "metadata": {},
   "outputs": [],
   "source": [
    "dataset[\"admission_type\"] = dataset[\"admission_type_id\"].map(info_admission_type)\n",
    "dataset[\"discharge_disposition\"] = dataset[\"discharge_disposition_id\"].map(info_discharge_disposition)\n",
    "dataset[\"admission_source\"] = dataset[\"admission_source_id\"].map(info_admission_source)"
   ]
  },
  {
   "cell_type": "code",
   "execution_count": 29,
   "id": "066bcb2b",
   "metadata": {},
   "outputs": [
    {
     "data": {
      "text/plain": [
       "Emergency        46529\n",
       "Elective         13318\n",
       "Other             7700\n",
       "Trauma Center       17\n",
       "Newborn              9\n",
       "Name: admission_type, dtype: int64"
      ]
     },
     "execution_count": 29,
     "metadata": {},
     "output_type": "execute_result"
    }
   ],
   "source": [
    "dataset.admission_type.value_counts()"
   ]
  },
  {
   "cell_type": "code",
   "execution_count": 30,
   "id": "9d6ffc29",
   "metadata": {},
   "outputs": [
    {
     "data": {
      "text/plain": [
       "Discharged to home    42230\n",
       "Other                 25343\n",
       "Name: discharge_disposition, dtype: int64"
      ]
     },
     "execution_count": 30,
     "metadata": {},
     "output_type": "execute_result"
    }
   ],
   "source": [
    "dataset.discharge_disposition.value_counts()"
   ]
  },
  {
   "cell_type": "code",
   "execution_count": 31,
   "id": "f985d899",
   "metadata": {},
   "outputs": [
    {
     "data": {
      "text/plain": [
       "Emergency Room              36429\n",
       "Physician Referral          21869\n",
       "Other                        4918\n",
       "Transfer from a hospital     4347\n",
       "Court/Law Enforcement          10\n",
       "Name: admission_source, dtype: int64"
      ]
     },
     "execution_count": 31,
     "metadata": {},
     "output_type": "execute_result"
    }
   ],
   "source": [
    "dataset.admission_source.value_counts()"
   ]
  },
  {
   "cell_type": "markdown",
   "id": "ee384e98",
   "metadata": {},
   "source": [
    "#### 5) Simplifying the diagnoses columns: diag_1, diag_2 and diag_3"
   ]
  },
  {
   "cell_type": "code",
   "execution_count": 32,
   "id": "ce8861dd",
   "metadata": {},
   "outputs": [
    {
     "data": {
      "text/plain": [
       "414    5048\n",
       "428    3815\n",
       "786    2934\n",
       "410    2705\n",
       "486    2315\n",
       "       ... \n",
       "691       1\n",
       "834       1\n",
       "906       1\n",
       "75        1\n",
       "V51       1\n",
       "Name: diag_1, Length: 691, dtype: int64"
      ]
     },
     "execution_count": 32,
     "metadata": {},
     "output_type": "execute_result"
    }
   ],
   "source": [
    "dataset.diag_1.value_counts()"
   ]
  },
  {
   "cell_type": "markdown",
   "id": "5a53b3f1",
   "metadata": {},
   "source": [
    "There are way too many values for the diagnoses, so we are going to categorize them in much less different types of desease with the ICD9 table, which can be easily be found on the internet:"
   ]
  },
  {
   "cell_type": "code",
   "execution_count": 33,
   "id": "e1d913f5",
   "metadata": {},
   "outputs": [
    {
     "data": {
      "text/html": [
       "<div>\n",
       "<style scoped>\n",
       "    .dataframe tbody tr th:only-of-type {\n",
       "        vertical-align: middle;\n",
       "    }\n",
       "\n",
       "    .dataframe tbody tr th {\n",
       "        vertical-align: top;\n",
       "    }\n",
       "\n",
       "    .dataframe thead th {\n",
       "        text-align: right;\n",
       "    }\n",
       "</style>\n",
       "<table border=\"1\" class=\"dataframe\">\n",
       "  <thead>\n",
       "    <tr style=\"text-align: right;\">\n",
       "      <th></th>\n",
       "      <th>code_inf</th>\n",
       "      <th>code_sup</th>\n",
       "      <th>description</th>\n",
       "    </tr>\n",
       "  </thead>\n",
       "  <tbody>\n",
       "    <tr>\n",
       "      <th>0</th>\n",
       "      <td>001</td>\n",
       "      <td>139</td>\n",
       "      <td>Infectious And Parasitic Diseases</td>\n",
       "    </tr>\n",
       "    <tr>\n",
       "      <th>1</th>\n",
       "      <td>140</td>\n",
       "      <td>239</td>\n",
       "      <td>Neoplasms</td>\n",
       "    </tr>\n",
       "    <tr>\n",
       "      <th>2</th>\n",
       "      <td>240</td>\n",
       "      <td>249</td>\n",
       "      <td>Endocrine, Nutritional And Metabolic Diseases,...</td>\n",
       "    </tr>\n",
       "    <tr>\n",
       "      <th>3</th>\n",
       "      <td>250</td>\n",
       "      <td>250</td>\n",
       "      <td>Diabetes mellitus</td>\n",
       "    </tr>\n",
       "    <tr>\n",
       "      <th>4</th>\n",
       "      <td>251</td>\n",
       "      <td>279</td>\n",
       "      <td>Endocrine, Nutritional And Metabolic Diseases,...</td>\n",
       "    </tr>\n",
       "    <tr>\n",
       "      <th>5</th>\n",
       "      <td>280</td>\n",
       "      <td>289</td>\n",
       "      <td>Diseases Of The Blood And Blood-Forming Organs</td>\n",
       "    </tr>\n",
       "    <tr>\n",
       "      <th>6</th>\n",
       "      <td>290</td>\n",
       "      <td>319</td>\n",
       "      <td>Mental Disorders</td>\n",
       "    </tr>\n",
       "    <tr>\n",
       "      <th>7</th>\n",
       "      <td>320</td>\n",
       "      <td>389</td>\n",
       "      <td>Diseases Of The Nervous System And Sense Organs</td>\n",
       "    </tr>\n",
       "    <tr>\n",
       "      <th>8</th>\n",
       "      <td>390</td>\n",
       "      <td>459</td>\n",
       "      <td>Diseases Of The Circulatory System</td>\n",
       "    </tr>\n",
       "    <tr>\n",
       "      <th>9</th>\n",
       "      <td>460</td>\n",
       "      <td>519</td>\n",
       "      <td>Diseases Of The Respiratory System</td>\n",
       "    </tr>\n",
       "    <tr>\n",
       "      <th>10</th>\n",
       "      <td>520</td>\n",
       "      <td>579</td>\n",
       "      <td>Diseases Of The Digestive System</td>\n",
       "    </tr>\n",
       "    <tr>\n",
       "      <th>11</th>\n",
       "      <td>580</td>\n",
       "      <td>629</td>\n",
       "      <td>Diseases Of The Genitourinary System</td>\n",
       "    </tr>\n",
       "    <tr>\n",
       "      <th>12</th>\n",
       "      <td>630</td>\n",
       "      <td>677</td>\n",
       "      <td>Complications Of Pregnancy, Childbirth, And Th...</td>\n",
       "    </tr>\n",
       "    <tr>\n",
       "      <th>13</th>\n",
       "      <td>680</td>\n",
       "      <td>709</td>\n",
       "      <td>Diseases Of The Skin And Subcutaneous Tissue</td>\n",
       "    </tr>\n",
       "    <tr>\n",
       "      <th>14</th>\n",
       "      <td>710</td>\n",
       "      <td>739</td>\n",
       "      <td>Diseases Of The Musculoskeletal System And Con...</td>\n",
       "    </tr>\n",
       "    <tr>\n",
       "      <th>15</th>\n",
       "      <td>740</td>\n",
       "      <td>759</td>\n",
       "      <td>Congential Anomalies</td>\n",
       "    </tr>\n",
       "    <tr>\n",
       "      <th>16</th>\n",
       "      <td>760</td>\n",
       "      <td>779</td>\n",
       "      <td>Certain Conditions Originating In The Perinata...</td>\n",
       "    </tr>\n",
       "    <tr>\n",
       "      <th>17</th>\n",
       "      <td>780</td>\n",
       "      <td>799</td>\n",
       "      <td>Symptoms, Signs, And Ill-Defined Conditions</td>\n",
       "    </tr>\n",
       "    <tr>\n",
       "      <th>18</th>\n",
       "      <td>800</td>\n",
       "      <td>999</td>\n",
       "      <td>Injury And Poisoning</td>\n",
       "    </tr>\n",
       "    <tr>\n",
       "      <th>19</th>\n",
       "      <td>V01</td>\n",
       "      <td>V86</td>\n",
       "      <td>Supplementary Classification Of Factors Influe...</td>\n",
       "    </tr>\n",
       "    <tr>\n",
       "      <th>20</th>\n",
       "      <td>E800</td>\n",
       "      <td>E999</td>\n",
       "      <td>Supplementary Classification Of External Cause...</td>\n",
       "    </tr>\n",
       "  </tbody>\n",
       "</table>\n",
       "</div>"
      ],
      "text/plain": [
       "   code_inf code_sup                                        description\n",
       "0       001      139                  Infectious And Parasitic Diseases\n",
       "1       140      239                                          Neoplasms\n",
       "2       240      249  Endocrine, Nutritional And Metabolic Diseases,...\n",
       "3       250      250                                  Diabetes mellitus\n",
       "4       251      279  Endocrine, Nutritional And Metabolic Diseases,...\n",
       "5       280      289     Diseases Of The Blood And Blood-Forming Organs\n",
       "6       290      319                                   Mental Disorders\n",
       "7       320      389    Diseases Of The Nervous System And Sense Organs\n",
       "8       390      459                 Diseases Of The Circulatory System\n",
       "9       460      519                 Diseases Of The Respiratory System\n",
       "10      520      579                   Diseases Of The Digestive System\n",
       "11      580      629               Diseases Of The Genitourinary System\n",
       "12      630      677  Complications Of Pregnancy, Childbirth, And Th...\n",
       "13      680      709       Diseases Of The Skin And Subcutaneous Tissue\n",
       "14      710      739  Diseases Of The Musculoskeletal System And Con...\n",
       "15      740      759                               Congential Anomalies\n",
       "16      760      779  Certain Conditions Originating In The Perinata...\n",
       "17      780      799        Symptoms, Signs, And Ill-Defined Conditions\n",
       "18      800      999                               Injury And Poisoning\n",
       "19      V01      V86  Supplementary Classification Of Factors Influe...\n",
       "20     E800     E999  Supplementary Classification Of External Cause..."
      ]
     },
     "execution_count": 33,
     "metadata": {},
     "output_type": "execute_result"
    }
   ],
   "source": [
    "labels_diags = pd.read_csv(\"ICD_9_diagnosis.csv\", sep=\";\")\n",
    "labels_diags"
   ]
  },
  {
   "cell_type": "code",
   "execution_count": 34,
   "id": "03998074",
   "metadata": {},
   "outputs": [
    {
     "data": {
      "text/plain": [
       "{0: 'Infectious And Parasitic Diseases',\n",
       " 1: 'Neoplasms',\n",
       " 2: 'Endocrine, Nutritional And Metabolic Diseases, And Immunity Disorders without diabetes',\n",
       " 3: 'Diabetes mellitus',\n",
       " 4: 'Diseases Of The Blood And Blood-Forming Organs',\n",
       " 5: 'Mental Disorders',\n",
       " 6: 'Diseases Of The Nervous System And Sense Organs',\n",
       " 7: 'Diseases Of The Circulatory System',\n",
       " 8: 'Diseases Of The Respiratory System',\n",
       " 9: 'Diseases Of The Digestive System',\n",
       " 10: 'Diseases Of The Genitourinary System',\n",
       " 11: 'Complications Of Pregnancy, Childbirth, And The Puerperium',\n",
       " 12: 'Diseases Of The Skin And Subcutaneous Tissue',\n",
       " 13: 'Diseases Of The Musculoskeletal System And Connective Tissue',\n",
       " 14: 'Congential Anomalies',\n",
       " 15: 'Certain Conditions Originating In The Perinatal Period',\n",
       " 16: 'Symptoms, Signs, And Ill-Defined Conditions',\n",
       " 17: 'Injury And Poisoning',\n",
       " 18: 'Supplementary Classification Of Factors Influencing Health Status And Contact With Health Services',\n",
       " 19: 'Supplementary Classification Of External Causes Of Injury And Poisoning'}"
      ]
     },
     "execution_count": 34,
     "metadata": {},
     "output_type": "execute_result"
    }
   ],
   "source": [
    "labels_diags.drop_duplicates(subset=[\"description\"], inplace=True)\n",
    "labels_diags.reset_index(inplace=True)\n",
    "info_diags = labels_diags[\"description\"].to_dict()\n",
    "info_diags"
   ]
  },
  {
   "cell_type": "code",
   "execution_count": 35,
   "id": "15a38320",
   "metadata": {},
   "outputs": [],
   "source": [
    "dataset[\"diag_1_id\"] = dataset[\"diag_1\"]\n",
    "dataset[\"diag_2_id\"] = dataset[\"diag_2\"]\n",
    "dataset[\"diag_3_id\"] = dataset[\"diag_3\"]"
   ]
  },
  {
   "cell_type": "markdown",
   "id": "6c083668",
   "metadata": {},
   "source": [
    "First, we compute the str values, like \"V01\" to \"V86\" or \"E800\" to \"E999\""
   ]
  },
  {
   "cell_type": "code",
   "execution_count": 36,
   "id": "dbcf92c0",
   "metadata": {},
   "outputs": [],
   "source": [
    "dataset.loc[dataset[\"diag_1\"].str.contains('V'), [\"diag_1_id\"]] = 1000\n",
    "dataset.loc[dataset[\"diag_1\"].str.contains('E'), [\"diag_1_id\"]] = 1001\n",
    "dataset.loc[dataset[\"diag_2\"].str.contains('V'), [\"diag_2_id\"]] = 1000\n",
    "dataset.loc[dataset[\"diag_2\"].str.contains('E'), [\"diag_2_id\"]] = 1001\n",
    "dataset.loc[dataset[\"diag_3\"].str.contains('V'), [\"diag_3_id\"]] = 1000\n",
    "dataset.loc[dataset[\"diag_3\"].str.contains('E'), [\"diag_3_id\"]] = 1001"
   ]
  },
  {
   "cell_type": "code",
   "execution_count": 37,
   "id": "74c928d9",
   "metadata": {},
   "outputs": [],
   "source": [
    "dataset[\"diag_1_id\"] = dataset[\"diag_1_id\"].astype(float)\n",
    "dataset[\"diag_2_id\"] = dataset[\"diag_2_id\"].astype(float)\n",
    "dataset[\"diag_3_id\"] = dataset[\"diag_3_id\"].astype(float)"
   ]
  },
  {
   "cell_type": "code",
   "execution_count": 38,
   "id": "3ba7fa76",
   "metadata": {},
   "outputs": [],
   "source": [
    "def assign_diag_cat(diag_nb):\n",
    "    for idx, row in dataset.iterrows():\n",
    "        \n",
    "        diag_id = np.trunc(row[diag_nb])\n",
    "                \n",
    "        if diag_id >= 1 and diag_id < 140:\n",
    "            dataset.loc[idx, diag_nb] = 0\n",
    "        \n",
    "        elif diag_id >= 140 and diag_id < 240:\n",
    "            dataset.loc[idx, diag_nb] = 1\n",
    "        \n",
    "        elif diag_id >= 240 and diag_id < 250:\n",
    "            dataset.loc[idx, diag_nb] = 2\n",
    "        \n",
    "        elif diag_id == 250:\n",
    "            dataset.loc[idx, diag_nb] = 3\n",
    "        \n",
    "        elif diag_id > 250 and diag_id < 280:\n",
    "            dataset.loc[idx, diag_nb] = 2\n",
    "        \n",
    "        elif diag_id >= 280 and diag_id < 290:\n",
    "            dataset.loc[idx, diag_nb] = 4\n",
    "        \n",
    "        elif diag_id >= 290 and diag_id < 320:\n",
    "            dataset.loc[idx, diag_nb] = 5\n",
    "        \n",
    "        elif diag_id >= 320 and diag_id < 390:\n",
    "            dataset.loc[idx, diag_nb] = 6\n",
    "        \n",
    "        elif diag_id >= 390 and diag_id < 460:\n",
    "            dataset.loc[idx, diag_nb] = 7\n",
    "        \n",
    "        elif diag_id >= 460 and diag_id < 520:\n",
    "            dataset.loc[idx, diag_nb] = 8\n",
    "        \n",
    "        elif diag_id >= 520 and diag_id < 580:\n",
    "            dataset.loc[idx, diag_nb] = 9\n",
    "        \n",
    "        elif diag_id >= 580 and diag_id < 630:\n",
    "            dataset.loc[idx, diag_nb] = 10\n",
    "        \n",
    "        elif diag_id >= 630 and diag_id < 680:\n",
    "            dataset.loc[idx, diag_nb] = 11\n",
    "        \n",
    "        elif diag_id >= 680 and diag_id < 710:\n",
    "            dataset.loc[idx, diag_nb] = 12\n",
    "        \n",
    "        elif diag_id >= 710 and diag_id < 740:\n",
    "            dataset.loc[idx, diag_nb] = 13\n",
    "        \n",
    "        elif diag_id >= 740 and diag_id < 760:\n",
    "            dataset.loc[idx, diag_nb] = 14\n",
    "        \n",
    "        elif diag_id >= 760 and diag_id < 780:\n",
    "            dataset.loc[idx, diag_nb] = 15\n",
    "        \n",
    "        elif diag_id >= 780 and diag_id < 800:\n",
    "            dataset.loc[idx, diag_nb] = 16\n",
    "        \n",
    "        elif diag_id >= 800 and diag_id <= 999:\n",
    "            dataset.loc[idx, diag_nb] = 17\n",
    "        \n",
    "        elif diag_id == 1000:\n",
    "            dataset.loc[idx, diag_nb] = 18\n",
    "        \n",
    "        elif diag_id == 1001:\n",
    "            dataset.loc[idx, diag_nb] = 19\n",
    "        \n",
    "        else:\n",
    "            dataset.loc[idx, diag_nb] = 20\n",
    "            "
   ]
  },
  {
   "cell_type": "code",
   "execution_count": 39,
   "id": "4ae2a95d",
   "metadata": {},
   "outputs": [],
   "source": [
    "assign_diag_cat(\"diag_1_id\")\n",
    "assign_diag_cat(\"diag_2_id\")\n",
    "assign_diag_cat(\"diag_3_id\")"
   ]
  },
  {
   "cell_type": "code",
   "execution_count": 40,
   "id": "269301e1",
   "metadata": {},
   "outputs": [],
   "source": [
    "dataset[\"diag_1_id\"] = dataset[\"diag_1_id\"].astype(int)\n",
    "dataset[\"diag_2_id\"] = dataset[\"diag_2_id\"].astype(int)\n",
    "dataset[\"diag_3_id\"] = dataset[\"diag_3_id\"].astype(int)"
   ]
  },
  {
   "cell_type": "code",
   "execution_count": 41,
   "id": "f13edade",
   "metadata": {},
   "outputs": [],
   "source": [
    "dataset[\"diag_1\"] = dataset[\"diag_1_id\"].map(info_diags)\n",
    "dataset[\"diag_2\"] = dataset[\"diag_2_id\"].map(info_diags)\n",
    "dataset[\"diag_3\"] = dataset[\"diag_3_id\"].map(info_diags)"
   ]
  },
  {
   "cell_type": "code",
   "execution_count": 42,
   "id": "b488ece5",
   "metadata": {},
   "outputs": [
    {
     "data": {
      "text/plain": [
       "Diseases Of The Circulatory System                                                                    20800\n",
       "Diseases Of The Respiratory System                                                                     6310\n",
       "Diseases Of The Digestive System                                                                       6121\n",
       "Symptoms, Signs, And Ill-Defined Conditions                                                            5338\n",
       "Diabetes mellitus                                                                                      5149\n",
       "Injury And Poisoning                                                                                   4496\n",
       "Diseases Of The Musculoskeletal System And Connective Tissue                                           3879\n",
       "Diseases Of The Genitourinary System                                                                   3355\n",
       "Neoplasms                                                                                              2555\n",
       "Endocrine, Nutritional And Metabolic Diseases, And Immunity Disorders without diabetes                 1777\n",
       "Diseases Of The Skin And Subcutaneous Tissue                                                           1711\n",
       "Infectious And Parasitic Diseases                                                                      1650\n",
       "Mental Disorders                                                                                       1456\n",
       "Supplementary Classification Of Factors Influencing Health Status And Contact With Health Services      895\n",
       "Diseases Of The Nervous System And Sense Organs                                                         838\n",
       "Diseases Of The Blood And Blood-Forming Organs                                                          643\n",
       "Complications Of Pregnancy, Childbirth, And The Puerperium                                              559\n",
       "Congential Anomalies                                                                                     40\n",
       "Supplementary Classification Of External Causes Of Injury And Poisoning                                   1\n",
       "Name: diag_1, dtype: int64"
      ]
     },
     "execution_count": 42,
     "metadata": {},
     "output_type": "execute_result"
    }
   ],
   "source": [
    "dataset.diag_1.value_counts()"
   ]
  },
  {
   "cell_type": "code",
   "execution_count": 43,
   "id": "b7a4de1b",
   "metadata": {},
   "outputs": [
    {
     "data": {
      "text/plain": [
       "Diseases Of The Circulatory System                                                                    21317\n",
       "Diabetes mellitus                                                                                      8918\n",
       "Diseases Of The Respiratory System                                                                     6350\n",
       "Endocrine, Nutritional And Metabolic Diseases, And Immunity Disorders without diabetes                 5441\n",
       "Diseases Of The Genitourinary System                                                                   4987\n",
       "Symptoms, Signs, And Ill-Defined Conditions                                                            3080\n",
       "Diseases Of The Digestive System                                                                       2641\n",
       "Diseases Of The Skin And Subcutaneous Tissue                                                           2153\n",
       "Diseases Of The Blood And Blood-Forming Organs                                                         2031\n",
       "Mental Disorders                                                                                       1773\n",
       "Injury And Poisoning                                                                                   1748\n",
       "Neoplasms                                                                                              1646\n",
       "Diseases Of The Musculoskeletal System And Connective Tissue                                           1255\n",
       "Infectious And Parasitic Diseases                                                                      1196\n",
       "Supplementary Classification Of Factors Influencing Health Status And Contact With Health Services     1176\n",
       "Diseases Of The Nervous System And Sense Organs                                                         871\n",
       "Supplementary Classification Of External Causes Of Injury And Poisoning                                 561\n",
       "Complications Of Pregnancy, Childbirth, And The Puerperium                                              351\n",
       "Congential Anomalies                                                                                     78\n",
       "Name: diag_2, dtype: int64"
      ]
     },
     "execution_count": 43,
     "metadata": {},
     "output_type": "execute_result"
    }
   ],
   "source": [
    "dataset.diag_2.value_counts()"
   ]
  },
  {
   "cell_type": "code",
   "execution_count": 44,
   "id": "7f1148de",
   "metadata": {},
   "outputs": [
    {
     "data": {
      "text/plain": [
       "Diseases Of The Circulatory System                                                                    20227\n",
       "Diabetes mellitus                                                                                     12244\n",
       "Endocrine, Nutritional And Metabolic Diseases, And Immunity Disorders without diabetes                 6337\n",
       "Diseases Of The Respiratory System                                                                     4198\n",
       "Diseases Of The Genitourinary System                                                                   3738\n",
       "Symptoms, Signs, And Ill-Defined Conditions                                                            3021\n",
       "Supplementary Classification Of Factors Influencing Health Status And Contact With Health Services     2556\n",
       "Diseases Of The Digestive System                                                                       2408\n",
       "Mental Disorders                                                                                       2095\n",
       "Diseases Of The Blood And Blood-Forming Organs                                                         1707\n",
       "Diseases Of The Skin And Subcutaneous Tissue                                                           1485\n",
       "Injury And Poisoning                                                                                   1370\n",
       "Diseases Of The Musculoskeletal System And Connective Tissue                                           1331\n",
       "Infectious And Parasitic Diseases                                                                      1208\n",
       "Neoplasms                                                                                              1201\n",
       "Diseases Of The Nervous System And Sense Organs                                                        1195\n",
       "Supplementary Classification Of External Causes Of Injury And Poisoning                                 911\n",
       "Complications Of Pregnancy, Childbirth, And The Puerperium                                              269\n",
       "Congential Anomalies                                                                                     72\n",
       "Name: diag_3, dtype: int64"
      ]
     },
     "execution_count": 44,
     "metadata": {},
     "output_type": "execute_result"
    }
   ],
   "source": [
    "dataset.diag_3.value_counts()"
   ]
  },
  {
   "cell_type": "markdown",
   "id": "f3638861",
   "metadata": {},
   "source": [
    "#### 6) Removing irrelevant medications"
   ]
  },
  {
   "cell_type": "code",
   "execution_count": 45,
   "id": "d81ac0af",
   "metadata": {},
   "outputs": [
    {
     "name": "stdout",
     "output_type": "stream",
     "text": [
      "No        53251\n",
      "Steady    13115\n",
      "Up          793\n",
      "Down        414\n",
      "Name: metformin, dtype: int64\n",
      "\n",
      "No        66664\n",
      "Steady      810\n",
      "Up           70\n",
      "Down         29\n",
      "Name: repaglinide, dtype: int64\n",
      "\n",
      "No        67089\n",
      "Steady      460\n",
      "Up           16\n",
      "Down          8\n",
      "Name: nateglinide, dtype: int64\n",
      "\n",
      "No        67505\n",
      "Steady       63\n",
      "Up            4\n",
      "Down          1\n",
      "Name: chlorpropamide, dtype: int64\n",
      "\n",
      "No        64015\n",
      "Steady     3202\n",
      "Up          223\n",
      "Down        133\n",
      "Name: glimepiride, dtype: int64\n",
      "\n",
      "No        67572\n",
      "Steady        1\n",
      "Name: acetohexamide, dtype: int64\n",
      "\n",
      "No        58833\n",
      "Steady     7816\n",
      "Up          563\n",
      "Down        361\n",
      "Name: glipizide, dtype: int64\n",
      "\n",
      "No        60076\n",
      "Steady     6497\n",
      "Up          600\n",
      "Down        400\n",
      "Name: glyburide, dtype: int64\n",
      "\n",
      "No        67557\n",
      "Steady       16\n",
      "Name: tolbutamide, dtype: int64\n",
      "\n",
      "No        62477\n",
      "Steady     4846\n",
      "Up          171\n",
      "Down         79\n",
      "Name: pioglitazone, dtype: int64\n",
      "\n",
      "No        63053\n",
      "Steady     4318\n",
      "Up          130\n",
      "Down         72\n",
      "Name: rosiglitazone, dtype: int64\n",
      "\n",
      "No        67379\n",
      "Steady      184\n",
      "Up           10\n",
      "Name: acarbose, dtype: int64\n",
      "\n",
      "No        67553\n",
      "Steady       18\n",
      "Down          1\n",
      "Up            1\n",
      "Name: miglitol, dtype: int64\n",
      "\n",
      "No        67570\n",
      "Steady        3\n",
      "Name: troglitazone, dtype: int64\n",
      "\n",
      "No        67545\n",
      "Steady       28\n",
      "Name: tolazamide, dtype: int64\n",
      "\n",
      "No    67573\n",
      "Name: examide, dtype: int64\n",
      "\n",
      "No    67573\n",
      "Name: citoglipton, dtype: int64\n",
      "\n",
      "No        33301\n",
      "Steady    20629\n",
      "Down       7112\n",
      "Up         6531\n",
      "Name: insulin, dtype: int64\n",
      "\n",
      "No        67104\n",
      "Steady      460\n",
      "Up            6\n",
      "Down          3\n",
      "Name: glyburide-metformin, dtype: int64\n",
      "\n",
      "No        67566\n",
      "Steady        7\n",
      "Name: glipizide-metformin, dtype: int64\n",
      "\n",
      "No    67573\n",
      "Name: glimepiride-pioglitazone, dtype: int64\n",
      "\n",
      "No    67573\n",
      "Name: metformin-rosiglitazone, dtype: int64\n",
      "\n",
      "No        67572\n",
      "Steady        1\n",
      "Name: metformin-pioglitazone, dtype: int64\n",
      "\n"
     ]
    }
   ],
   "source": [
    "for col in dataset.columns[20:43]:\n",
    "    print(dataset[col].value_counts())\n",
    "    print()"
   ]
  },
  {
   "cell_type": "markdown",
   "id": "bbde4991",
   "metadata": {},
   "source": [
    "Some of the medications columns don't give important informations: we can see some of them have an insignficant number of other values compared to the number of \"No\" values. We can remove those columns."
   ]
  },
  {
   "cell_type": "code",
   "execution_count": 46,
   "id": "e487000f",
   "metadata": {},
   "outputs": [],
   "source": [
    "dataset.drop([\"nateglinide\", \n",
    "              \"chlorpropamide\", \n",
    "              \"acetohexamide\", \n",
    "              \"tolbutamide\", \n",
    "              \"acarbose\", \n",
    "              \"miglitol\", \n",
    "              \"troglitazone\", \n",
    "              \"tolazamide\", \n",
    "              \"examide\", \n",
    "              \"citoglipton\",\n",
    "              \"glyburide-metformin\", \n",
    "              \"glipizide-metformin\",\n",
    "              \"glimepiride-pioglitazone\",\n",
    "              \"metformin-rosiglitazone\", \n",
    "              \"metformin-pioglitazone\"], axis=1, inplace=True)"
   ]
  },
  {
   "cell_type": "markdown",
   "id": "22911027",
   "metadata": {},
   "source": [
    "#### 7) Transforming the target into a binary classification problem"
   ]
  },
  {
   "cell_type": "markdown",
   "id": "3a3a8f0e",
   "metadata": {},
   "source": [
    "We want to know if the patient gets readmitted to the hospital within 30 days or not. \n",
    "The target can take 3 values: \"<30\", \">30\" and \"NO\". In order to reduce our problem to a binary classification, we can merge the readmission after 30 days and no readmission into a single outcome:"
   ]
  },
  {
   "cell_type": "code",
   "execution_count": 47,
   "id": "4e47d4a9",
   "metadata": {},
   "outputs": [
    {
     "data": {
      "text/plain": [
       "NO     39819\n",
       ">30    21625\n",
       "<30     6129\n",
       "Name: readmitted, dtype: int64"
      ]
     },
     "execution_count": 47,
     "metadata": {},
     "output_type": "execute_result"
    }
   ],
   "source": [
    "dataset[\"readmitted\"].value_counts()"
   ]
  },
  {
   "cell_type": "code",
   "execution_count": 48,
   "id": "473f39de",
   "metadata": {},
   "outputs": [],
   "source": [
    "dataset[\"readmitted\"] = dataset[\"readmitted\"].replace(\"NO\", 0)\n",
    "dataset[\"readmitted\"] = dataset[\"readmitted\"].replace(\">30\", 0)\n",
    "dataset[\"readmitted\"] = dataset[\"readmitted\"].replace(\"<30\", 1)"
   ]
  },
  {
   "cell_type": "code",
   "execution_count": 49,
   "id": "d1d8c3e3",
   "metadata": {},
   "outputs": [
    {
     "data": {
      "text/plain": [
       "0    61444\n",
       "1     6129\n",
       "Name: readmitted, dtype: int64"
      ]
     },
     "execution_count": 49,
     "metadata": {},
     "output_type": "execute_result"
    }
   ],
   "source": [
    "dataset[\"readmitted\"].value_counts()"
   ]
  },
  {
   "cell_type": "markdown",
   "id": "ed76f299",
   "metadata": {},
   "source": [
    "<a name=\"part_3\">\n",
    "\n",
    "### 3. Data Visualization\n",
    "---"
   ]
  },
  {
   "cell_type": "markdown",
   "id": "046d737f",
   "metadata": {},
   "source": [
    "#### 1) Basics information about the dataset:"
   ]
  },
  {
   "cell_type": "code",
   "execution_count": 50,
   "id": "c2a429f2",
   "metadata": {},
   "outputs": [
    {
     "data": {
      "text/plain": [
       "(67573, 37)"
      ]
     },
     "execution_count": 50,
     "metadata": {},
     "output_type": "execute_result"
    }
   ],
   "source": [
    "dataset.shape"
   ]
  },
  {
   "cell_type": "markdown",
   "id": "ce24e8b0",
   "metadata": {},
   "source": [
    "We see the important statistic values of the dataframes's numeric columns, such as the mean, the standard deviation..., all gathered in a table:"
   ]
  },
  {
   "cell_type": "code",
   "execution_count": 51,
   "id": "99411043",
   "metadata": {},
   "outputs": [
    {
     "data": {
      "text/html": [
       "<div>\n",
       "<style scoped>\n",
       "    .dataframe tbody tr th:only-of-type {\n",
       "        vertical-align: middle;\n",
       "    }\n",
       "\n",
       "    .dataframe tbody tr th {\n",
       "        vertical-align: top;\n",
       "    }\n",
       "\n",
       "    .dataframe thead th {\n",
       "        text-align: right;\n",
       "    }\n",
       "</style>\n",
       "<table border=\"1\" class=\"dataframe\">\n",
       "  <thead>\n",
       "    <tr style=\"text-align: right;\">\n",
       "      <th></th>\n",
       "      <th>patient_nbr</th>\n",
       "      <th>gender</th>\n",
       "      <th>admission_type_id</th>\n",
       "      <th>discharge_disposition_id</th>\n",
       "      <th>admission_source_id</th>\n",
       "      <th>time_in_hospital</th>\n",
       "      <th>num_lab_procedures</th>\n",
       "      <th>num_procedures</th>\n",
       "      <th>num_medications</th>\n",
       "      <th>number_outpatient</th>\n",
       "      <th>number_emergency</th>\n",
       "      <th>number_inpatient</th>\n",
       "      <th>number_diagnoses</th>\n",
       "      <th>change</th>\n",
       "      <th>diabetesMed</th>\n",
       "      <th>readmitted</th>\n",
       "      <th>diag_1_id</th>\n",
       "      <th>diag_2_id</th>\n",
       "      <th>diag_3_id</th>\n",
       "    </tr>\n",
       "  </thead>\n",
       "  <tbody>\n",
       "    <tr>\n",
       "      <th>count</th>\n",
       "      <td>6.757300e+04</td>\n",
       "      <td>67573.000000</td>\n",
       "      <td>67573.000000</td>\n",
       "      <td>67573.000000</td>\n",
       "      <td>67573.000000</td>\n",
       "      <td>67573.000000</td>\n",
       "      <td>67573.000000</td>\n",
       "      <td>67573.000000</td>\n",
       "      <td>67573.000000</td>\n",
       "      <td>67573.000000</td>\n",
       "      <td>67573.000000</td>\n",
       "      <td>67573.000000</td>\n",
       "      <td>67573.000000</td>\n",
       "      <td>67573.000000</td>\n",
       "      <td>67573.000000</td>\n",
       "      <td>67573.000000</td>\n",
       "      <td>67573.000000</td>\n",
       "      <td>67573.000000</td>\n",
       "      <td>67573.000000</td>\n",
       "    </tr>\n",
       "    <tr>\n",
       "      <th>mean</th>\n",
       "      <td>5.554127e+07</td>\n",
       "      <td>0.466680</td>\n",
       "      <td>1.282139</td>\n",
       "      <td>0.624954</td>\n",
       "      <td>4.355882</td>\n",
       "      <td>4.311589</td>\n",
       "      <td>42.965208</td>\n",
       "      <td>1.435988</td>\n",
       "      <td>15.769287</td>\n",
       "      <td>0.286993</td>\n",
       "      <td>0.106788</td>\n",
       "      <td>0.183994</td>\n",
       "      <td>7.332633</td>\n",
       "      <td>0.449203</td>\n",
       "      <td>0.759327</td>\n",
       "      <td>0.090702</td>\n",
       "      <td>8.535835</td>\n",
       "      <td>7.297027</td>\n",
       "      <td>7.152827</td>\n",
       "    </tr>\n",
       "    <tr>\n",
       "      <th>std</th>\n",
       "      <td>3.942633e+07</td>\n",
       "      <td>0.498892</td>\n",
       "      <td>0.912676</td>\n",
       "      <td>0.484138</td>\n",
       "      <td>2.967323</td>\n",
       "      <td>2.947800</td>\n",
       "      <td>19.953891</td>\n",
       "      <td>1.758273</td>\n",
       "      <td>8.260768</td>\n",
       "      <td>1.080516</td>\n",
       "      <td>0.518974</td>\n",
       "      <td>0.612540</td>\n",
       "      <td>1.890894</td>\n",
       "      <td>0.497417</td>\n",
       "      <td>0.427495</td>\n",
       "      <td>0.287187</td>\n",
       "      <td>4.547588</td>\n",
       "      <td>4.274191</td>\n",
       "      <td>4.620543</td>\n",
       "    </tr>\n",
       "    <tr>\n",
       "      <th>min</th>\n",
       "      <td>1.350000e+02</td>\n",
       "      <td>0.000000</td>\n",
       "      <td>0.000000</td>\n",
       "      <td>0.000000</td>\n",
       "      <td>0.000000</td>\n",
       "      <td>1.000000</td>\n",
       "      <td>1.000000</td>\n",
       "      <td>0.000000</td>\n",
       "      <td>1.000000</td>\n",
       "      <td>0.000000</td>\n",
       "      <td>0.000000</td>\n",
       "      <td>0.000000</td>\n",
       "      <td>3.000000</td>\n",
       "      <td>0.000000</td>\n",
       "      <td>0.000000</td>\n",
       "      <td>0.000000</td>\n",
       "      <td>0.000000</td>\n",
       "      <td>0.000000</td>\n",
       "      <td>0.000000</td>\n",
       "    </tr>\n",
       "    <tr>\n",
       "      <th>25%</th>\n",
       "      <td>2.347816e+07</td>\n",
       "      <td>0.000000</td>\n",
       "      <td>1.000000</td>\n",
       "      <td>0.000000</td>\n",
       "      <td>1.000000</td>\n",
       "      <td>2.000000</td>\n",
       "      <td>31.000000</td>\n",
       "      <td>0.000000</td>\n",
       "      <td>10.000000</td>\n",
       "      <td>0.000000</td>\n",
       "      <td>0.000000</td>\n",
       "      <td>0.000000</td>\n",
       "      <td>6.000000</td>\n",
       "      <td>0.000000</td>\n",
       "      <td>1.000000</td>\n",
       "      <td>0.000000</td>\n",
       "      <td>7.000000</td>\n",
       "      <td>3.000000</td>\n",
       "      <td>3.000000</td>\n",
       "    </tr>\n",
       "    <tr>\n",
       "      <th>50%</th>\n",
       "      <td>5.003169e+07</td>\n",
       "      <td>0.000000</td>\n",
       "      <td>1.000000</td>\n",
       "      <td>1.000000</td>\n",
       "      <td>7.000000</td>\n",
       "      <td>4.000000</td>\n",
       "      <td>44.000000</td>\n",
       "      <td>1.000000</td>\n",
       "      <td>14.000000</td>\n",
       "      <td>0.000000</td>\n",
       "      <td>0.000000</td>\n",
       "      <td>0.000000</td>\n",
       "      <td>8.000000</td>\n",
       "      <td>0.000000</td>\n",
       "      <td>1.000000</td>\n",
       "      <td>0.000000</td>\n",
       "      <td>7.000000</td>\n",
       "      <td>7.000000</td>\n",
       "      <td>7.000000</td>\n",
       "    </tr>\n",
       "    <tr>\n",
       "      <th>75%</th>\n",
       "      <td>8.796179e+07</td>\n",
       "      <td>1.000000</td>\n",
       "      <td>1.000000</td>\n",
       "      <td>1.000000</td>\n",
       "      <td>7.000000</td>\n",
       "      <td>6.000000</td>\n",
       "      <td>57.000000</td>\n",
       "      <td>2.000000</td>\n",
       "      <td>20.000000</td>\n",
       "      <td>0.000000</td>\n",
       "      <td>0.000000</td>\n",
       "      <td>0.000000</td>\n",
       "      <td>9.000000</td>\n",
       "      <td>1.000000</td>\n",
       "      <td>1.000000</td>\n",
       "      <td>0.000000</td>\n",
       "      <td>11.000000</td>\n",
       "      <td>9.000000</td>\n",
       "      <td>9.000000</td>\n",
       "    </tr>\n",
       "    <tr>\n",
       "      <th>max</th>\n",
       "      <td>1.895026e+08</td>\n",
       "      <td>1.000000</td>\n",
       "      <td>7.000000</td>\n",
       "      <td>1.000000</td>\n",
       "      <td>8.000000</td>\n",
       "      <td>14.000000</td>\n",
       "      <td>132.000000</td>\n",
       "      <td>6.000000</td>\n",
       "      <td>81.000000</td>\n",
       "      <td>42.000000</td>\n",
       "      <td>42.000000</td>\n",
       "      <td>12.000000</td>\n",
       "      <td>16.000000</td>\n",
       "      <td>1.000000</td>\n",
       "      <td>1.000000</td>\n",
       "      <td>1.000000</td>\n",
       "      <td>19.000000</td>\n",
       "      <td>19.000000</td>\n",
       "      <td>19.000000</td>\n",
       "    </tr>\n",
       "  </tbody>\n",
       "</table>\n",
       "</div>"
      ],
      "text/plain": [
       "        patient_nbr        gender  admission_type_id  \\\n",
       "count  6.757300e+04  67573.000000       67573.000000   \n",
       "mean   5.554127e+07      0.466680           1.282139   \n",
       "std    3.942633e+07      0.498892           0.912676   \n",
       "min    1.350000e+02      0.000000           0.000000   \n",
       "25%    2.347816e+07      0.000000           1.000000   \n",
       "50%    5.003169e+07      0.000000           1.000000   \n",
       "75%    8.796179e+07      1.000000           1.000000   \n",
       "max    1.895026e+08      1.000000           7.000000   \n",
       "\n",
       "       discharge_disposition_id  admission_source_id  time_in_hospital  \\\n",
       "count              67573.000000         67573.000000      67573.000000   \n",
       "mean                   0.624954             4.355882          4.311589   \n",
       "std                    0.484138             2.967323          2.947800   \n",
       "min                    0.000000             0.000000          1.000000   \n",
       "25%                    0.000000             1.000000          2.000000   \n",
       "50%                    1.000000             7.000000          4.000000   \n",
       "75%                    1.000000             7.000000          6.000000   \n",
       "max                    1.000000             8.000000         14.000000   \n",
       "\n",
       "       num_lab_procedures  num_procedures  num_medications  number_outpatient  \\\n",
       "count        67573.000000    67573.000000     67573.000000       67573.000000   \n",
       "mean            42.965208        1.435988        15.769287           0.286993   \n",
       "std             19.953891        1.758273         8.260768           1.080516   \n",
       "min              1.000000        0.000000         1.000000           0.000000   \n",
       "25%             31.000000        0.000000        10.000000           0.000000   \n",
       "50%             44.000000        1.000000        14.000000           0.000000   \n",
       "75%             57.000000        2.000000        20.000000           0.000000   \n",
       "max            132.000000        6.000000        81.000000          42.000000   \n",
       "\n",
       "       number_emergency  number_inpatient  number_diagnoses        change  \\\n",
       "count      67573.000000      67573.000000      67573.000000  67573.000000   \n",
       "mean           0.106788          0.183994          7.332633      0.449203   \n",
       "std            0.518974          0.612540          1.890894      0.497417   \n",
       "min            0.000000          0.000000          3.000000      0.000000   \n",
       "25%            0.000000          0.000000          6.000000      0.000000   \n",
       "50%            0.000000          0.000000          8.000000      0.000000   \n",
       "75%            0.000000          0.000000          9.000000      1.000000   \n",
       "max           42.000000         12.000000         16.000000      1.000000   \n",
       "\n",
       "        diabetesMed    readmitted     diag_1_id     diag_2_id     diag_3_id  \n",
       "count  67573.000000  67573.000000  67573.000000  67573.000000  67573.000000  \n",
       "mean       0.759327      0.090702      8.535835      7.297027      7.152827  \n",
       "std        0.427495      0.287187      4.547588      4.274191      4.620543  \n",
       "min        0.000000      0.000000      0.000000      0.000000      0.000000  \n",
       "25%        1.000000      0.000000      7.000000      3.000000      3.000000  \n",
       "50%        1.000000      0.000000      7.000000      7.000000      7.000000  \n",
       "75%        1.000000      0.000000     11.000000      9.000000      9.000000  \n",
       "max        1.000000      1.000000     19.000000     19.000000     19.000000  "
      ]
     },
     "execution_count": 51,
     "metadata": {},
     "output_type": "execute_result"
    }
   ],
   "source": [
    "dataset.describe()"
   ]
  },
  {
   "cell_type": "markdown",
   "id": "e9fbb538",
   "metadata": {},
   "source": [
    "#### 2) Readmission repartition"
   ]
  },
  {
   "cell_type": "code",
   "execution_count": 52,
   "id": "eb1442ba",
   "metadata": {
    "scrolled": true
   },
   "outputs": [
    {
     "data": {
      "image/png": "[encoded data removed]",
      "text/plain": [
       "<Figure size 432x288 with 1 Axes>"
      ]
     },
     "metadata": {
      "needs_background": "light"
     },
     "output_type": "display_data"
    }
   ],
   "source": [
    "ax = sns.countplot(data=dataset,\n",
    "                   x = \"readmitted\",\n",
    "                   palette = \"GnBu_d\")\n",
    "ax.set_title(\"Readmission repartition\")\n",
    "ax.set_xlabel(\"Readmitted\")\n",
    "plt.show()"
   ]
  },
  {
   "cell_type": "code",
   "execution_count": 116,
   "id": "17024fda",
   "metadata": {},
   "outputs": [
    {
     "data": {
      "image/png": "[encoded data removed]",
      "text/plain": [
       "<Figure size 432x288 with 1 Axes>"
      ]
     },
     "metadata": {},
     "output_type": "display_data"
    }
   ],
   "source": [
    "data_pie = dataset.readmitted.value_counts()\n",
    "\n",
    "data_pie.plot(kind = 'pie', subplots=True, autopct='%.2f%%')\n",
    "plt.title(\"Repartition of readmitted\")\n",
    "plt.show()"
   ]
  },
  {
   "cell_type": "markdown",
   "id": "45a92021",
   "metadata": {},
   "source": [
    "#### 3) Age"
   ]
  },
  {
   "cell_type": "code",
   "execution_count": 53,
   "id": "ce335171",
   "metadata": {},
   "outputs": [
    {
     "data": {
      "image/png": "[encoded data removed]",
      "text/plain": [
       "<Figure size 1440x720 with 1 Axes>"
      ]
     },
     "metadata": {
      "needs_background": "light"
     },
     "output_type": "display_data"
    }
   ],
   "source": [
    "fig, ax = plt.subplots(figsize=(20, 10))\n",
    "\n",
    "ax = sns.countplot(data=dataset, x = \"age\")\n",
    "ax.set_title(\"Repartition of patients in function of their age\")\n",
    "ax.set_xlabel(\"Age range\")\n",
    "plt.show()"
   ]
  },
  {
   "cell_type": "code",
   "execution_count": 54,
   "id": "64651593",
   "metadata": {},
   "outputs": [
    {
     "data": {
      "image/png": "[encoded data removed]",
      "text/plain": [
       "<Figure size 1440x720 with 1 Axes>"
      ]
     },
     "metadata": {
      "needs_background": "light"
     },
     "output_type": "display_data"
    }
   ],
   "source": [
    "fig, ax = plt.subplots(figsize=(20, 10))\n",
    "\n",
    "ax = sns.countplot(data=dataset, x = \"age\", hue = \"readmitted\", palette=\"Set2\")\n",
    "ax.set_title(\"Readmission of patients in function of their age\")\n",
    "ax.set_xlabel(\"Age range\")\n",
    "plt.show()"
   ]
  },
  {
   "cell_type": "markdown",
   "id": "a1bd2d3e",
   "metadata": {},
   "source": [
    "#### 4) Gender and race"
   ]
  },
  {
   "cell_type": "code",
   "execution_count": 143,
   "id": "6b1d09de",
   "metadata": {},
   "outputs": [
    {
     "data": {
      "image/png": "[encoded data removed]",
      "text/plain": [
       "<Figure size 1440x720 with 1 Axes>"
      ]
     },
     "metadata": {
      "needs_background": "light"
     },
     "output_type": "display_data"
    }
   ],
   "source": [
    "fig, ax = plt.subplots(figsize=(20, 10))\n",
    "\n",
    "ax = sns.countplot(data=dataset, x = \"gender\", hue = \"readmitted\")\n",
    "ax.set_title(\"Readmission of patients in function of their gender\")\n",
    "ax.set_xlabel(\"Gender\")\n",
    "plt.show()"
   ]
  },
  {
   "cell_type": "code",
   "execution_count": 103,
   "id": "18ec5323",
   "metadata": {},
   "outputs": [
    {
     "data": {
      "image/png": "[encoded data removed]",
      "text/plain": [
       "<Figure size 720x720 with 1 Axes>"
      ]
     },
     "metadata": {},
     "output_type": "display_data"
    }
   ],
   "source": [
    "data_pie = pd.DataFrame(dataset.groupby(['race'])['patient_nbr'].count())\n",
    "\n",
    "col = sns.color_palette('pastel')[0:len(data_pie)]\n",
    "\n",
    "data_pie.plot(kind = 'pie', subplots=True, autopct='%.2f%%', figsize=(10, 10), colors=col)\n",
    "plt.title(\"Repartition of patient's origins\")\n",
    "plt.show()"
   ]
  },
  {
   "cell_type": "code",
   "execution_count": 157,
   "id": "0f92d8c1",
   "metadata": {},
   "outputs": [
    {
     "data": {
      "image/png": "[encoded data removed]",
      "text/plain": [
       "<Figure size 1440x720 with 1 Axes>"
      ]
     },
     "metadata": {
      "needs_background": "light"
     },
     "output_type": "display_data"
    }
   ],
   "source": [
    "fig, ax = plt.subplots(figsize=(20, 10))\n",
    "\n",
    "ax = sns.countplot(data=dataset, x = \"race\", hue = \"readmitted\", palette=\"bright\")\n",
    "ax.set_title(\"Readmission of patients in function of their origin\")\n",
    "plt.show()"
   ]
  },
  {
   "cell_type": "code",
   "execution_count": 56,
   "id": "0ea6b12e",
   "metadata": {},
   "outputs": [
    {
     "data": {
      "image/png": "[encoded data removed]",
      "text/plain": [
       "<Figure size 1440x720 with 1 Axes>"
      ]
     },
     "metadata": {
      "needs_background": "light"
     },
     "output_type": "display_data"
    }
   ],
   "source": [
    "fig = plt.figure(figsize=(20,10))\n",
    "\n",
    "ax=sns.kdeplot(dataset.loc[(dataset['readmitted'] == 0),'time_in_hospital'] , label='Not Readmitted')\n",
    "ax=sns.kdeplot(dataset.loc[(dataset['readmitted'] == 1),'time_in_hospital'] , label='Readmitted')\n",
    "\n",
    "ax.set(xlabel='Time in Hospital', ylabel='Frequency')\n",
    "ax.legend()\n",
    "plt.title('Time in Hospital VS. Readmission')\n",
    "plt.show()"
   ]
  },
  {
   "cell_type": "code",
   "execution_count": 158,
   "id": "ea9b02bb",
   "metadata": {},
   "outputs": [
    {
     "data": {
      "image/png": "[encoded data removed]",
      "text/plain": [
       "<Figure size 1440x720 with 1 Axes>"
      ]
     },
     "metadata": {
      "needs_background": "light"
     },
     "output_type": "display_data"
    }
   ],
   "source": [
    "fig, ax = plt.subplots(figsize=(20, 10))\n",
    "\n",
    "ax = sns.countplot(data=dataset, x = \"admission_type\", hue = \"readmitted\", palette=\"bright\")\n",
    "ax.set_title(\"Readmission of patients in function of their admission type\")\n",
    "ax.set_xlabel(\"Admission type\")\n",
    "plt.show()"
   ]
  },
  {
   "cell_type": "code",
   "execution_count": 160,
   "id": "090e3ef3",
   "metadata": {},
   "outputs": [
    {
     "data": {
      "image/png": "[encoded data removed]",
      "text/plain": [
       "<Figure size 1440x720 with 1 Axes>"
      ]
     },
     "metadata": {
      "needs_background": "light"
     },
     "output_type": "display_data"
    }
   ],
   "source": [
    "fig, ax = plt.subplots(figsize=(20, 10))\n",
    "\n",
    "ax = sns.countplot(data=dataset, x = \"discharge_disposition\", hue = \"readmitted\", palette=\"bright\")\n",
    "ax.set_title(\"Readmission of patients in function of their discharge disposition\")\n",
    "ax.set_xlabel(\"Discharge disposition\")\n",
    "plt.show()"
   ]
  },
  {
   "cell_type": "code",
   "execution_count": 161,
   "id": "4d185aa6",
   "metadata": {},
   "outputs": [
    {
     "data": {
      "image/png": "[encoded data removed]",
      "text/plain": [
       "<Figure size 1440x720 with 1 Axes>"
      ]
     },
     "metadata": {
      "needs_background": "light"
     },
     "output_type": "display_data"
    }
   ],
   "source": [
    "fig, ax = plt.subplots(figsize=(20, 10))\n",
    "\n",
    "ax = sns.countplot(data=dataset, x = \"admission_source\", hue = \"readmitted\", palette=\"bright\")\n",
    "ax.set_title(\"Readmission of patients in function of their admission source\")\n",
    "ax.set_xlabel(\"Admission source\")\n",
    "plt.show()"
   ]
  },
  {
   "cell_type": "markdown",
   "id": "ee22e596",
   "metadata": {},
   "source": [
    "#### 5) Correlation"
   ]
  },
  {
   "cell_type": "code",
   "execution_count": 57,
   "id": "ef88e963",
   "metadata": {},
   "outputs": [
    {
     "data": {
      "image/png": "[encoded data removed]",
      "text/plain": [
       "<Figure size 1080x1080 with 2 Axes>"
      ]
     },
     "metadata": {
      "needs_background": "light"
     },
     "output_type": "display_data"
    }
   ],
   "source": [
    "fig, ax = plt.subplots(figsize=(15,15))\n",
    "\n",
    "cmap = sns.diverging_palette(250, 300, as_cmap=True)\n",
    "corr = dataset.corr()\n",
    "heatmap = sns.heatmap(corr, cmap=cmap, annot=True)\n",
    "cbar = ax.collections[0].colorbar\n",
    "\n",
    "plt.title(\"Correlation matrix\")\n",
    "plt.show()"
   ]
  },
  {
   "cell_type": "markdown",
   "id": "8432c7f6",
   "metadata": {},
   "source": [
    "<a name=\"part_4\">\n",
    "\n",
    "### 4. Modeling\n",
    "---"
   ]
  },
  {
   "cell_type": "markdown",
   "id": "d65f2a04",
   "metadata": {},
   "source": [
    "  - [Logistic Regression](#logreg)\n",
    "  - [Dealing with imbalanced data](#imbdata)\n",
    "  - [Decision tree](#dtree)\n",
    "  - [Random Forest](#rf)\n",
    "  - [Comparing models](#compare)\n"
   ]
  },
  {
   "cell_type": "markdown",
   "id": "9d44fdd0",
   "metadata": {},
   "source": [
    "#### 1) Preparing the modeling"
   ]
  },
  {
   "cell_type": "code",
   "execution_count": 58,
   "id": "15353835",
   "metadata": {},
   "outputs": [],
   "source": [
    "df = dataset[['readmitted', \n",
    "             'race', 'gender', 'age',\n",
    "              'admission_type_id', 'discharge_disposition_id', 'admission_source_id', \n",
    "              'time_in_hospital',\n",
    "              'num_lab_procedures', 'num_procedures', 'num_medications',\n",
    "              'number_outpatient', 'number_emergency', 'number_inpatient', \n",
    "              'diag_1_id', 'diag_2_id', 'diag_3_id', \n",
    "              'number_diagnoses', \n",
    "              'max_glu_serum', 'A1Cresult',\n",
    "              'metformin', 'repaglinide', 'glimepiride', 'glipizide', \n",
    "              'glyburide', 'pioglitazone', 'rosiglitazone', 'insulin', \n",
    "              'change', 'diabetesMed']]"
   ]
  },
  {
   "cell_type": "code",
   "execution_count": 59,
   "id": "edefd936",
   "metadata": {},
   "outputs": [],
   "source": [
    "non_num_features = ['race', 'age',\n",
    "                  'admission_type_id', 'discharge_disposition_id', 'admission_source_id', \n",
    "                  'diag_1_id', 'diag_2_id', 'diag_3_id',\n",
    "                  'max_glu_serum', 'A1Cresult',\n",
    "                  'metformin', 'repaglinide', 'glimepiride', 'glipizide', \n",
    "                  'glyburide', 'pioglitazone', 'rosiglitazone', 'insulin']"
   ]
  },
  {
   "cell_type": "code",
   "execution_count": 60,
   "id": "b682b124",
   "metadata": {
    "scrolled": true
   },
   "outputs": [],
   "source": [
    "df = pd.get_dummies(df, columns=non_num_features, drop_first=True)"
   ]
  },
  {
   "cell_type": "markdown",
   "id": "1c782cd7",
   "metadata": {},
   "source": [
    "Scaling the numeric data:"
   ]
  },
  {
   "cell_type": "code",
   "execution_count": 61,
   "id": "c6f97e72",
   "metadata": {},
   "outputs": [],
   "source": [
    "num_features = ['time_in_hospital',\n",
    "                 'num_lab_procedures', 'num_procedures', 'num_medications',\n",
    "                 'number_outpatient', 'number_emergency', 'number_inpatient', 'number_diagnoses']"
   ]
  },
  {
   "cell_type": "code",
   "execution_count": 62,
   "id": "bb9655c6",
   "metadata": {},
   "outputs": [],
   "source": [
    "from sklearn.preprocessing import StandardScaler\n",
    "scaler = StandardScaler()\n",
    "scaler.fit(df[num_features])\n",
    "df[num_features] = scaler.transform(df[num_features])\n",
    "df[num_features] = scaler.transform(df[num_features])"
   ]
  },
  {
   "cell_type": "code",
   "execution_count": 63,
   "id": "8ae52566",
   "metadata": {},
   "outputs": [
    {
     "data": {
      "text/html": [
       "<div>\n",
       "<style scoped>\n",
       "    .dataframe tbody tr th:only-of-type {\n",
       "        vertical-align: middle;\n",
       "    }\n",
       "\n",
       "    .dataframe tbody tr th {\n",
       "        vertical-align: top;\n",
       "    }\n",
       "\n",
       "    .dataframe thead th {\n",
       "        text-align: right;\n",
       "    }\n",
       "</style>\n",
       "<table border=\"1\" class=\"dataframe\">\n",
       "  <thead>\n",
       "    <tr style=\"text-align: right;\">\n",
       "      <th></th>\n",
       "      <th>readmitted</th>\n",
       "      <th>gender</th>\n",
       "      <th>time_in_hospital</th>\n",
       "      <th>num_lab_procedures</th>\n",
       "      <th>num_procedures</th>\n",
       "      <th>num_medications</th>\n",
       "      <th>number_outpatient</th>\n",
       "      <th>number_emergency</th>\n",
       "      <th>number_inpatient</th>\n",
       "      <th>number_diagnoses</th>\n",
       "      <th>...</th>\n",
       "      <th>glyburide_Up</th>\n",
       "      <th>pioglitazone_No</th>\n",
       "      <th>pioglitazone_Steady</th>\n",
       "      <th>pioglitazone_Up</th>\n",
       "      <th>rosiglitazone_No</th>\n",
       "      <th>rosiglitazone_Steady</th>\n",
       "      <th>rosiglitazone_Up</th>\n",
       "      <th>insulin_No</th>\n",
       "      <th>insulin_Steady</th>\n",
       "      <th>insulin_Up</th>\n",
       "    </tr>\n",
       "  </thead>\n",
       "  <tbody>\n",
       "    <tr>\n",
       "      <th>1</th>\n",
       "      <td>0</td>\n",
       "      <td>0</td>\n",
       "      <td>-1.613599</td>\n",
       "      <td>-2.112967</td>\n",
       "      <td>-1.281209</td>\n",
       "      <td>-1.876262</td>\n",
       "      <td>-0.511429</td>\n",
       "      <td>-0.602266</td>\n",
       "      <td>-0.790768</td>\n",
       "      <td>-3.411553</td>\n",
       "      <td>...</td>\n",
       "      <td>0</td>\n",
       "      <td>1</td>\n",
       "      <td>0</td>\n",
       "      <td>0</td>\n",
       "      <td>1</td>\n",
       "      <td>0</td>\n",
       "      <td>0</td>\n",
       "      <td>0</td>\n",
       "      <td>0</td>\n",
       "      <td>1</td>\n",
       "    </tr>\n",
       "    <tr>\n",
       "      <th>2</th>\n",
       "      <td>0</td>\n",
       "      <td>0</td>\n",
       "      <td>-1.728681</td>\n",
       "      <td>-2.233524</td>\n",
       "      <td>0.336141</td>\n",
       "      <td>-1.949533</td>\n",
       "      <td>1.201636</td>\n",
       "      <td>-0.602266</td>\n",
       "      <td>1.874475</td>\n",
       "      <td>-4.250614</td>\n",
       "      <td>...</td>\n",
       "      <td>0</td>\n",
       "      <td>1</td>\n",
       "      <td>0</td>\n",
       "      <td>0</td>\n",
       "      <td>1</td>\n",
       "      <td>0</td>\n",
       "      <td>0</td>\n",
       "      <td>1</td>\n",
       "      <td>0</td>\n",
       "      <td>0</td>\n",
       "    </tr>\n",
       "    <tr>\n",
       "      <th>3</th>\n",
       "      <td>0</td>\n",
       "      <td>1</td>\n",
       "      <td>-1.728681</td>\n",
       "      <td>-2.150641</td>\n",
       "      <td>-0.957739</td>\n",
       "      <td>-1.905570</td>\n",
       "      <td>-0.511429</td>\n",
       "      <td>-0.602266</td>\n",
       "      <td>-0.790768</td>\n",
       "      <td>-3.970927</td>\n",
       "      <td>...</td>\n",
       "      <td>0</td>\n",
       "      <td>1</td>\n",
       "      <td>0</td>\n",
       "      <td>0</td>\n",
       "      <td>1</td>\n",
       "      <td>0</td>\n",
       "      <td>0</td>\n",
       "      <td>0</td>\n",
       "      <td>0</td>\n",
       "      <td>1</td>\n",
       "    </tr>\n",
       "    <tr>\n",
       "      <th>4</th>\n",
       "      <td>0</td>\n",
       "      <td>1</td>\n",
       "      <td>-1.843764</td>\n",
       "      <td>-2.133060</td>\n",
       "      <td>-1.281209</td>\n",
       "      <td>-2.022805</td>\n",
       "      <td>-0.511429</td>\n",
       "      <td>-0.602266</td>\n",
       "      <td>-0.790768</td>\n",
       "      <td>-4.530300</td>\n",
       "      <td>...</td>\n",
       "      <td>0</td>\n",
       "      <td>1</td>\n",
       "      <td>0</td>\n",
       "      <td>0</td>\n",
       "      <td>1</td>\n",
       "      <td>0</td>\n",
       "      <td>0</td>\n",
       "      <td>0</td>\n",
       "      <td>1</td>\n",
       "      <td>0</td>\n",
       "    </tr>\n",
       "    <tr>\n",
       "      <th>5</th>\n",
       "      <td>0</td>\n",
       "      <td>1</td>\n",
       "      <td>-1.613599</td>\n",
       "      <td>-2.183292</td>\n",
       "      <td>0.659611</td>\n",
       "      <td>-1.905570</td>\n",
       "      <td>-0.511429</td>\n",
       "      <td>-0.602266</td>\n",
       "      <td>-0.790768</td>\n",
       "      <td>-3.411553</td>\n",
       "      <td>...</td>\n",
       "      <td>0</td>\n",
       "      <td>1</td>\n",
       "      <td>0</td>\n",
       "      <td>0</td>\n",
       "      <td>1</td>\n",
       "      <td>0</td>\n",
       "      <td>0</td>\n",
       "      <td>0</td>\n",
       "      <td>1</td>\n",
       "      <td>0</td>\n",
       "    </tr>\n",
       "    <tr>\n",
       "      <th>...</th>\n",
       "      <td>...</td>\n",
       "      <td>...</td>\n",
       "      <td>...</td>\n",
       "      <td>...</td>\n",
       "      <td>...</td>\n",
       "      <td>...</td>\n",
       "      <td>...</td>\n",
       "      <td>...</td>\n",
       "      <td>...</td>\n",
       "      <td>...</td>\n",
       "      <td>...</td>\n",
       "      <td>...</td>\n",
       "      <td>...</td>\n",
       "      <td>...</td>\n",
       "      <td>...</td>\n",
       "      <td>...</td>\n",
       "      <td>...</td>\n",
       "      <td>...</td>\n",
       "      <td>...</td>\n",
       "      <td>...</td>\n",
       "      <td>...</td>\n",
       "    </tr>\n",
       "    <tr>\n",
       "      <th>101754</th>\n",
       "      <td>0</td>\n",
       "      <td>0</td>\n",
       "      <td>-0.923102</td>\n",
       "      <td>-2.135572</td>\n",
       "      <td>-0.634269</td>\n",
       "      <td>-1.656447</td>\n",
       "      <td>-0.511429</td>\n",
       "      <td>-0.602266</td>\n",
       "      <td>-0.790768</td>\n",
       "      <td>-3.411553</td>\n",
       "      <td>...</td>\n",
       "      <td>1</td>\n",
       "      <td>1</td>\n",
       "      <td>0</td>\n",
       "      <td>0</td>\n",
       "      <td>1</td>\n",
       "      <td>0</td>\n",
       "      <td>0</td>\n",
       "      <td>0</td>\n",
       "      <td>1</td>\n",
       "      <td>0</td>\n",
       "    </tr>\n",
       "    <tr>\n",
       "      <th>101755</th>\n",
       "      <td>0</td>\n",
       "      <td>0</td>\n",
       "      <td>-0.347688</td>\n",
       "      <td>-2.077805</td>\n",
       "      <td>0.659611</td>\n",
       "      <td>-1.759027</td>\n",
       "      <td>-0.511429</td>\n",
       "      <td>3.110655</td>\n",
       "      <td>-0.790768</td>\n",
       "      <td>-3.411553</td>\n",
       "      <td>...</td>\n",
       "      <td>0</td>\n",
       "      <td>1</td>\n",
       "      <td>0</td>\n",
       "      <td>0</td>\n",
       "      <td>1</td>\n",
       "      <td>0</td>\n",
       "      <td>0</td>\n",
       "      <td>0</td>\n",
       "      <td>0</td>\n",
       "      <td>1</td>\n",
       "    </tr>\n",
       "    <tr>\n",
       "      <th>101756</th>\n",
       "      <td>0</td>\n",
       "      <td>0</td>\n",
       "      <td>-1.728681</td>\n",
       "      <td>-2.145618</td>\n",
       "      <td>0.659611</td>\n",
       "      <td>-1.890916</td>\n",
       "      <td>0.345104</td>\n",
       "      <td>3.110655</td>\n",
       "      <td>1.874475</td>\n",
       "      <td>-3.411553</td>\n",
       "      <td>...</td>\n",
       "      <td>0</td>\n",
       "      <td>1</td>\n",
       "      <td>0</td>\n",
       "      <td>0</td>\n",
       "      <td>1</td>\n",
       "      <td>0</td>\n",
       "      <td>0</td>\n",
       "      <td>0</td>\n",
       "      <td>1</td>\n",
       "      <td>0</td>\n",
       "    </tr>\n",
       "    <tr>\n",
       "      <th>101758</th>\n",
       "      <td>0</td>\n",
       "      <td>0</td>\n",
       "      <td>-1.383433</td>\n",
       "      <td>-2.070270</td>\n",
       "      <td>-0.957739</td>\n",
       "      <td>-1.817644</td>\n",
       "      <td>-0.511429</td>\n",
       "      <td>3.110655</td>\n",
       "      <td>-0.790768</td>\n",
       "      <td>-3.411553</td>\n",
       "      <td>...</td>\n",
       "      <td>0</td>\n",
       "      <td>1</td>\n",
       "      <td>0</td>\n",
       "      <td>0</td>\n",
       "      <td>1</td>\n",
       "      <td>0</td>\n",
       "      <td>0</td>\n",
       "      <td>0</td>\n",
       "      <td>0</td>\n",
       "      <td>1</td>\n",
       "    </tr>\n",
       "    <tr>\n",
       "      <th>101765</th>\n",
       "      <td>0</td>\n",
       "      <td>1</td>\n",
       "      <td>-1.268350</td>\n",
       "      <td>-2.228501</td>\n",
       "      <td>-0.310799</td>\n",
       "      <td>-2.096076</td>\n",
       "      <td>-0.511429</td>\n",
       "      <td>-0.602266</td>\n",
       "      <td>-0.790768</td>\n",
       "      <td>-3.411553</td>\n",
       "      <td>...</td>\n",
       "      <td>0</td>\n",
       "      <td>1</td>\n",
       "      <td>0</td>\n",
       "      <td>0</td>\n",
       "      <td>1</td>\n",
       "      <td>0</td>\n",
       "      <td>0</td>\n",
       "      <td>1</td>\n",
       "      <td>0</td>\n",
       "      <td>0</td>\n",
       "    </tr>\n",
       "  </tbody>\n",
       "</table>\n",
       "<p>67573 rows × 118 columns</p>\n",
       "</div>"
      ],
      "text/plain": [
       "        readmitted  gender  time_in_hospital  num_lab_procedures  \\\n",
       "1                0       0         -1.613599           -2.112967   \n",
       "2                0       0         -1.728681           -2.233524   \n",
       "3                0       1         -1.728681           -2.150641   \n",
       "4                0       1         -1.843764           -2.133060   \n",
       "5                0       1         -1.613599           -2.183292   \n",
       "...            ...     ...               ...                 ...   \n",
       "101754           0       0         -0.923102           -2.135572   \n",
       "101755           0       0         -0.347688           -2.077805   \n",
       "101756           0       0         -1.728681           -2.145618   \n",
       "101758           0       0         -1.383433           -2.070270   \n",
       "101765           0       1         -1.268350           -2.228501   \n",
       "\n",
       "        num_procedures  num_medications  number_outpatient  number_emergency  \\\n",
       "1            -1.281209        -1.876262          -0.511429         -0.602266   \n",
       "2             0.336141        -1.949533           1.201636         -0.602266   \n",
       "3            -0.957739        -1.905570          -0.511429         -0.602266   \n",
       "4            -1.281209        -2.022805          -0.511429         -0.602266   \n",
       "5             0.659611        -1.905570          -0.511429         -0.602266   \n",
       "...                ...              ...                ...               ...   \n",
       "101754       -0.634269        -1.656447          -0.511429         -0.602266   \n",
       "101755        0.659611        -1.759027          -0.511429          3.110655   \n",
       "101756        0.659611        -1.890916           0.345104          3.110655   \n",
       "101758       -0.957739        -1.817644          -0.511429          3.110655   \n",
       "101765       -0.310799        -2.096076          -0.511429         -0.602266   \n",
       "\n",
       "        number_inpatient  number_diagnoses  ...  glyburide_Up  \\\n",
       "1              -0.790768         -3.411553  ...             0   \n",
       "2               1.874475         -4.250614  ...             0   \n",
       "3              -0.790768         -3.970927  ...             0   \n",
       "4              -0.790768         -4.530300  ...             0   \n",
       "5              -0.790768         -3.411553  ...             0   \n",
       "...                  ...               ...  ...           ...   \n",
       "101754         -0.790768         -3.411553  ...             1   \n",
       "101755         -0.790768         -3.411553  ...             0   \n",
       "101756          1.874475         -3.411553  ...             0   \n",
       "101758         -0.790768         -3.411553  ...             0   \n",
       "101765         -0.790768         -3.411553  ...             0   \n",
       "\n",
       "        pioglitazone_No  pioglitazone_Steady  pioglitazone_Up  \\\n",
       "1                     1                    0                0   \n",
       "2                     1                    0                0   \n",
       "3                     1                    0                0   \n",
       "4                     1                    0                0   \n",
       "5                     1                    0                0   \n",
       "...                 ...                  ...              ...   \n",
       "101754                1                    0                0   \n",
       "101755                1                    0                0   \n",
       "101756                1                    0                0   \n",
       "101758                1                    0                0   \n",
       "101765                1                    0                0   \n",
       "\n",
       "        rosiglitazone_No  rosiglitazone_Steady  rosiglitazone_Up  insulin_No  \\\n",
       "1                      1                     0                 0           0   \n",
       "2                      1                     0                 0           1   \n",
       "3                      1                     0                 0           0   \n",
       "4                      1                     0                 0           0   \n",
       "5                      1                     0                 0           0   \n",
       "...                  ...                   ...               ...         ...   \n",
       "101754                 1                     0                 0           0   \n",
       "101755                 1                     0                 0           0   \n",
       "101756                 1                     0                 0           0   \n",
       "101758                 1                     0                 0           0   \n",
       "101765                 1                     0                 0           1   \n",
       "\n",
       "        insulin_Steady  insulin_Up  \n",
       "1                    0           1  \n",
       "2                    0           0  \n",
       "3                    0           1  \n",
       "4                    1           0  \n",
       "5                    1           0  \n",
       "...                ...         ...  \n",
       "101754               1           0  \n",
       "101755               0           1  \n",
       "101756               1           0  \n",
       "101758               0           1  \n",
       "101765               0           0  \n",
       "\n",
       "[67573 rows x 118 columns]"
      ]
     },
     "execution_count": 63,
     "metadata": {},
     "output_type": "execute_result"
    }
   ],
   "source": [
    "df"
   ]
  },
  {
   "cell_type": "markdown",
   "id": "d79403c5",
   "metadata": {},
   "source": [
    "#### 2) The train-test split"
   ]
  },
  {
   "cell_type": "code",
   "execution_count": 64,
   "id": "0264b505",
   "metadata": {},
   "outputs": [],
   "source": [
    "from sklearn.model_selection import train_test_split\n",
    "\n",
    "X = df.drop(\"readmitted\", axis=1)\n",
    "y = df.readmitted\n",
    "X_train, X_test, y_train, y_test = train_test_split(X, y, test_size=0.2, random_state=0)"
   ]
  },
  {
   "cell_type": "markdown",
   "id": "0ec6f468",
   "metadata": {},
   "source": [
    "#### 3) Models"
   ]
  },
  {
   "cell_type": "markdown",
   "id": "92c7b1a5",
   "metadata": {},
   "source": [
    "<a name=\"logreg\">\n",
    "\n",
    "##### 3.1) Logistic regression"
   ]
  },
  {
   "cell_type": "code",
   "execution_count": 65,
   "id": "e1f52512",
   "metadata": {},
   "outputs": [],
   "source": [
    "from sklearn.linear_model import LogisticRegression\n",
    "\n",
    "logreg_model = LogisticRegression(solver=\"liblinear\")\n",
    "logreg_model.fit(X_train, y_train)\n",
    "\n",
    "logreg_pred = logreg_model.predict(X_test)"
   ]
  },
  {
   "cell_type": "code",
   "execution_count": 66,
   "id": "24fffeb3",
   "metadata": {},
   "outputs": [
    {
     "data": {
      "text/plain": [
       "0.9096710940101372"
      ]
     },
     "execution_count": 66,
     "metadata": {},
     "output_type": "execute_result"
    }
   ],
   "source": [
    "logreg_model.score(X_train, y_train)"
   ]
  },
  {
   "cell_type": "code",
   "execution_count": 67,
   "id": "d78e3bd2",
   "metadata": {},
   "outputs": [
    {
     "data": {
      "text/plain": [
       "0.9075101738808731"
      ]
     },
     "execution_count": 67,
     "metadata": {},
     "output_type": "execute_result"
    }
   ],
   "source": [
    "logreg_model.score(X_test, y_test)"
   ]
  },
  {
   "cell_type": "markdown",
   "id": "ac54217e",
   "metadata": {},
   "source": [
    "Performance metrics:"
   ]
  },
  {
   "cell_type": "code",
   "execution_count": 68,
   "id": "4e3f62a3",
   "metadata": {},
   "outputs": [
    {
     "data": {
      "text/html": [
       "<div>\n",
       "<style scoped>\n",
       "    .dataframe tbody tr th:only-of-type {\n",
       "        vertical-align: middle;\n",
       "    }\n",
       "\n",
       "    .dataframe tbody tr th {\n",
       "        vertical-align: top;\n",
       "    }\n",
       "\n",
       "    .dataframe thead th {\n",
       "        text-align: right;\n",
       "    }\n",
       "</style>\n",
       "<table border=\"1\" class=\"dataframe\">\n",
       "  <thead>\n",
       "    <tr style=\"text-align: right;\">\n",
       "      <th>col_0</th>\n",
       "      <th>0</th>\n",
       "      <th>1</th>\n",
       "    </tr>\n",
       "    <tr>\n",
       "      <th>readmitted</th>\n",
       "      <th></th>\n",
       "      <th></th>\n",
       "    </tr>\n",
       "  </thead>\n",
       "  <tbody>\n",
       "    <tr>\n",
       "      <th>0</th>\n",
       "      <td>12262</td>\n",
       "      <td>11</td>\n",
       "    </tr>\n",
       "    <tr>\n",
       "      <th>1</th>\n",
       "      <td>1239</td>\n",
       "      <td>3</td>\n",
       "    </tr>\n",
       "  </tbody>\n",
       "</table>\n",
       "</div>"
      ],
      "text/plain": [
       "col_0           0   1\n",
       "readmitted           \n",
       "0           12262  11\n",
       "1            1239   3"
      ]
     },
     "execution_count": 68,
     "metadata": {},
     "output_type": "execute_result"
    }
   ],
   "source": [
    "pd.crosstab(y_test, logreg_pred) # confusion matrix"
   ]
  },
  {
   "cell_type": "code",
   "execution_count": 69,
   "id": "f4fbe95d",
   "metadata": {
    "scrolled": true
   },
   "outputs": [
    {
     "name": "stdout",
     "output_type": "stream",
     "text": [
      "Accuracy : 0.91\n",
      "Precision: 0.21\n",
      "Recall: 0.0\n",
      "F1-score: 0.0\n"
     ]
    }
   ],
   "source": [
    "from sklearn.metrics import accuracy_score, precision_score, recall_score, f1_score\n",
    "\n",
    "def print_scores(pred):\n",
    "    print(\"Accuracy :\", round(accuracy_score(y_test, pred), 2))\n",
    "    print(\"Precision:\", round(precision_score(y_test, pred), 2))\n",
    "    print(\"Recall:\", round(recall_score(y_test, pred), 2))\n",
    "    print(\"F1-score:\", round(f1_score(y_test, pred), 2))\n",
    "    \n",
    "print_scores(logreg_pred)"
   ]
  },
  {
   "cell_type": "markdown",
   "id": "194afd50",
   "metadata": {},
   "source": [
    "The accuracy is high, but the precision is low and the recall = 0, which means our model is not good, because there are a lot of false positives and false negatives. This problem is caused by our imbalanced target. Due to the large amount of negatives in the training set, the algorithm will almost all the time predict a negative result, as we can see in the confusion matrix."
   ]
  },
  {
   "cell_type": "markdown",
   "id": "93825be7",
   "metadata": {},
   "source": [
    "<a name=\"imbdata\">\n",
    "\n",
    "##### 3.2) Deal with imbalanced data"
   ]
  },
  {
   "cell_type": "markdown",
   "id": "24c31976",
   "metadata": {},
   "source": [
    "We are going to try resampling techniques (found on https://towardsdatascience.com/methods-for-dealing-with-imbalanced-data-5b761be45a18):\n",
    "- Oversample minority class\n",
    "- Undersample majority class\n",
    "- Generate synthetic samples"
   ]
  },
  {
   "cell_type": "markdown",
   "id": "d1b76a59",
   "metadata": {},
   "source": [
    "First, oversample:"
   ]
  },
  {
   "cell_type": "code",
   "execution_count": 70,
   "id": "f0e87f64",
   "metadata": {},
   "outputs": [
    {
     "data": {
      "text/plain": [
       "0    49171\n",
       "1    49171\n",
       "Name: readmitted, dtype: int64"
      ]
     },
     "execution_count": 70,
     "metadata": {},
     "output_type": "execute_result"
    }
   ],
   "source": [
    "from sklearn.utils import resample\n",
    "\n",
    "# concatenate our training data back together\n",
    "X = pd.concat([X_train, y_train], axis=1)\n",
    "\n",
    "# separate minority and majority classes\n",
    "not_readmitted = X[X.readmitted==0]\n",
    "readmitted = X[X.readmitted==1]\n",
    "\n",
    "# upsample minority\n",
    "readmitted_upsampled = resample(readmitted, \n",
    "                                replace=True, # sample with replacement\n",
    "                                n_samples=len(not_readmitted), # match number in majority class\n",
    "                                random_state=0) # reproducible results\n",
    "\n",
    "# combine majority and upsampled minority\n",
    "upsampled = pd.concat([not_readmitted, readmitted_upsampled])\n",
    "\n",
    "# check new class counts\n",
    "upsampled.readmitted.value_counts()"
   ]
  },
  {
   "cell_type": "code",
   "execution_count": 71,
   "id": "48b493f9",
   "metadata": {},
   "outputs": [],
   "source": [
    "# trying logistic regression again with the balanced dataset\n",
    "X_train = upsampled.drop('readmitted', axis=1)\n",
    "y_train = upsampled.readmitted\n",
    "\n",
    "logreg_model = LogisticRegression(solver='liblinear')\n",
    "logreg_model.fit(X_train, y_train)\n",
    "\n",
    "logreg_pred = logreg_model.predict(X_test)"
   ]
  },
  {
   "cell_type": "code",
   "execution_count": 72,
   "id": "c8957c67",
   "metadata": {
    "scrolled": true
   },
   "outputs": [
    {
     "data": {
      "text/plain": [
       "0.6014927497915438"
      ]
     },
     "execution_count": 72,
     "metadata": {},
     "output_type": "execute_result"
    }
   ],
   "source": [
    "logreg_model.score(X_train, y_train)"
   ]
  },
  {
   "cell_type": "code",
   "execution_count": 73,
   "id": "effd5ce8",
   "metadata": {},
   "outputs": [
    {
     "data": {
      "text/plain": [
       "0.6178320384757676"
      ]
     },
     "execution_count": 73,
     "metadata": {},
     "output_type": "execute_result"
    }
   ],
   "source": [
    "logreg_model.score(X_test, y_test)"
   ]
  },
  {
   "cell_type": "markdown",
   "id": "32285cd2",
   "metadata": {},
   "source": [
    "Performance metrics:"
   ]
  },
  {
   "cell_type": "code",
   "execution_count": 74,
   "id": "c2c1792c",
   "metadata": {},
   "outputs": [
    {
     "data": {
      "text/html": [
       "<div>\n",
       "<style scoped>\n",
       "    .dataframe tbody tr th:only-of-type {\n",
       "        vertical-align: middle;\n",
       "    }\n",
       "\n",
       "    .dataframe tbody tr th {\n",
       "        vertical-align: top;\n",
       "    }\n",
       "\n",
       "    .dataframe thead th {\n",
       "        text-align: right;\n",
       "    }\n",
       "</style>\n",
       "<table border=\"1\" class=\"dataframe\">\n",
       "  <thead>\n",
       "    <tr style=\"text-align: right;\">\n",
       "      <th>col_0</th>\n",
       "      <th>0</th>\n",
       "      <th>1</th>\n",
       "    </tr>\n",
       "    <tr>\n",
       "      <th>readmitted</th>\n",
       "      <th></th>\n",
       "      <th></th>\n",
       "    </tr>\n",
       "  </thead>\n",
       "  <tbody>\n",
       "    <tr>\n",
       "      <th>0</th>\n",
       "      <td>7641</td>\n",
       "      <td>4632</td>\n",
       "    </tr>\n",
       "    <tr>\n",
       "      <th>1</th>\n",
       "      <td>533</td>\n",
       "      <td>709</td>\n",
       "    </tr>\n",
       "  </tbody>\n",
       "</table>\n",
       "</div>"
      ],
      "text/plain": [
       "col_0          0     1\n",
       "readmitted            \n",
       "0           7641  4632\n",
       "1            533   709"
      ]
     },
     "execution_count": 74,
     "metadata": {},
     "output_type": "execute_result"
    }
   ],
   "source": [
    "pd.crosstab(y_test, logreg_pred)"
   ]
  },
  {
   "cell_type": "code",
   "execution_count": 75,
   "id": "d45db646",
   "metadata": {
    "scrolled": true
   },
   "outputs": [
    {
     "name": "stdout",
     "output_type": "stream",
     "text": [
      "Accuracy : 0.62\n",
      "Precision: 0.13\n",
      "Recall: 0.57\n",
      "F1-score: 0.22\n"
     ]
    }
   ],
   "source": [
    "print_scores(logreg_pred)"
   ]
  },
  {
   "cell_type": "markdown",
   "id": "b6726d60",
   "metadata": {},
   "source": [
    "Recall increased a lot, accuracy decreased but seems is coherent, but precision is still low."
   ]
  },
  {
   "cell_type": "markdown",
   "id": "bbd34d8a",
   "metadata": {},
   "source": [
    "Now, let's test downsample:"
   ]
  },
  {
   "cell_type": "code",
   "execution_count": 76,
   "id": "5b82f358",
   "metadata": {},
   "outputs": [],
   "source": [
    "not_readmitted_downsampled = resample(not_readmitted,\n",
    "                                      replace = False, # sample without replacement\n",
    "                                      n_samples = len(readmitted), # match minority n\n",
    "                                      random_state = 0)\n",
    "\n",
    "downsampled = pd.concat([not_readmitted_downsampled, readmitted])"
   ]
  },
  {
   "cell_type": "code",
   "execution_count": 77,
   "id": "318980bf",
   "metadata": {},
   "outputs": [],
   "source": [
    "# trying logistic regression again with the undersampled dataset\n",
    "X_train = downsampled.drop('readmitted', axis=1)\n",
    "y_train = downsampled.readmitted\n",
    "\n",
    "logreg_model = LogisticRegression(solver='liblinear')\n",
    "logreg_model.fit(X_train, y_train)\n",
    "\n",
    "logreg_pred = logreg_model.predict(X_test)"
   ]
  },
  {
   "cell_type": "code",
   "execution_count": 78,
   "id": "8b1aeac0",
   "metadata": {
    "scrolled": true
   },
   "outputs": [
    {
     "data": {
      "text/plain": [
       "0.604767751176591"
      ]
     },
     "execution_count": 78,
     "metadata": {},
     "output_type": "execute_result"
    }
   ],
   "source": [
    "logreg_model.score(X_train, y_train)"
   ]
  },
  {
   "cell_type": "code",
   "execution_count": 79,
   "id": "c1ac5b06",
   "metadata": {},
   "outputs": [
    {
     "data": {
      "text/plain": [
       "0.6064372918978912"
      ]
     },
     "execution_count": 79,
     "metadata": {},
     "output_type": "execute_result"
    }
   ],
   "source": [
    "logreg_model.score(X_test, y_test)"
   ]
  },
  {
   "cell_type": "markdown",
   "id": "6221d093",
   "metadata": {},
   "source": [
    "Performance metrics:"
   ]
  },
  {
   "cell_type": "code",
   "execution_count": 80,
   "id": "48aa5e3a",
   "metadata": {},
   "outputs": [
    {
     "data": {
      "text/html": [
       "<div>\n",
       "<style scoped>\n",
       "    .dataframe tbody tr th:only-of-type {\n",
       "        vertical-align: middle;\n",
       "    }\n",
       "\n",
       "    .dataframe tbody tr th {\n",
       "        vertical-align: top;\n",
       "    }\n",
       "\n",
       "    .dataframe thead th {\n",
       "        text-align: right;\n",
       "    }\n",
       "</style>\n",
       "<table border=\"1\" class=\"dataframe\">\n",
       "  <thead>\n",
       "    <tr style=\"text-align: right;\">\n",
       "      <th>col_0</th>\n",
       "      <th>0</th>\n",
       "      <th>1</th>\n",
       "    </tr>\n",
       "    <tr>\n",
       "      <th>readmitted</th>\n",
       "      <th></th>\n",
       "      <th></th>\n",
       "    </tr>\n",
       "  </thead>\n",
       "  <tbody>\n",
       "    <tr>\n",
       "      <th>0</th>\n",
       "      <td>7471</td>\n",
       "      <td>4802</td>\n",
       "    </tr>\n",
       "    <tr>\n",
       "      <th>1</th>\n",
       "      <td>517</td>\n",
       "      <td>725</td>\n",
       "    </tr>\n",
       "  </tbody>\n",
       "</table>\n",
       "</div>"
      ],
      "text/plain": [
       "col_0          0     1\n",
       "readmitted            \n",
       "0           7471  4802\n",
       "1            517   725"
      ]
     },
     "execution_count": 80,
     "metadata": {},
     "output_type": "execute_result"
    }
   ],
   "source": [
    "pd.crosstab(y_test, logreg_pred)"
   ]
  },
  {
   "cell_type": "code",
   "execution_count": 81,
   "id": "83a6afd2",
   "metadata": {
    "scrolled": true
   },
   "outputs": [
    {
     "name": "stdout",
     "output_type": "stream",
     "text": [
      "Accuracy : 0.61\n",
      "Precision: 0.13\n",
      "Recall: 0.58\n",
      "F1-score: 0.21\n"
     ]
    }
   ],
   "source": [
    "print_scores(logreg_pred)"
   ]
  },
  {
   "cell_type": "markdown",
   "id": "badcd9e7",
   "metadata": {},
   "source": [
    "Almost the same results as oversampling."
   ]
  },
  {
   "cell_type": "markdown",
   "id": "8d8284d3",
   "metadata": {},
   "source": [
    "**Remark**: We can precise class_weight=\"balanced\" as a parameter in the LogisticRegression() function when our target is imbalanced. <br>\n",
    "The \"balanced\" mode uses the values of y to automatically adjust weights inversely proportional to class frequencies in the input data as n_samples / (n_classes * np.bincount(y))."
   ]
  },
  {
   "cell_type": "code",
   "execution_count": 82,
   "id": "38126fa7",
   "metadata": {},
   "outputs": [],
   "source": [
    "X_train = df.drop('readmitted', axis=1)\n",
    "y_train = df.readmitted\n",
    "\n",
    "logreg_model = LogisticRegression(solver='liblinear', class_weight=\"balanced\")\n",
    "logreg_model.fit(X_train, y_train)\n",
    "\n",
    "logreg_pred = logreg_model.predict(X_test)"
   ]
  },
  {
   "cell_type": "code",
   "execution_count": 83,
   "id": "10e01492",
   "metadata": {},
   "outputs": [
    {
     "name": "stdout",
     "output_type": "stream",
     "text": [
      "Accuracy : 0.62\n",
      "Precision: 0.14\n",
      "Recall: 0.59\n",
      "F1-score: 0.22\n"
     ]
    }
   ],
   "source": [
    "print_scores(logreg_pred)"
   ]
  },
  {
   "cell_type": "markdown",
   "id": "ac91b5d0",
   "metadata": {},
   "source": [
    "Again, with this method, we obtain similar results."
   ]
  },
  {
   "cell_type": "markdown",
   "id": "517ff793",
   "metadata": {},
   "source": [
    "Last technique: generate synthetic samples <br>\n",
    "A technique similar to upsampling is to create synthetic samples. Here we will use imblearn’s SMOTE or Synthetic Minority Oversampling Technique. SMOTE uses a nearest neighbors algorithm to generate new and synthetic data we can use for training our model."
   ]
  },
  {
   "cell_type": "code",
   "execution_count": 84,
   "id": "94723c09",
   "metadata": {},
   "outputs": [],
   "source": [
    "from imblearn.over_sampling import SMOTE\n",
    "\n",
    "sm = SMOTE(random_state=0)\n",
    "X_train, y_train = sm.fit_resample(X_train, y_train)\n",
    "\n",
    "X_train, X_test, y_train, y_test = train_test_split(X_train, y_train, test_size=0.2, random_state=0)"
   ]
  },
  {
   "cell_type": "markdown",
   "id": "6118925c",
   "metadata": {},
   "source": [
    "Let's try again our logistic regression model to see if there is improvement."
   ]
  },
  {
   "cell_type": "code",
   "execution_count": 85,
   "id": "345a2367",
   "metadata": {},
   "outputs": [],
   "source": [
    "logreg_model = LogisticRegression(solver='liblinear')\n",
    "logreg_model.fit(X_train, y_train)\n",
    "\n",
    "logreg_pred = logreg_model.predict(X_test)"
   ]
  },
  {
   "cell_type": "code",
   "execution_count": 86,
   "id": "3e371798",
   "metadata": {
    "scrolled": true
   },
   "outputs": [
    {
     "data": {
      "text/plain": [
       "0.9150137320720171"
      ]
     },
     "execution_count": 86,
     "metadata": {},
     "output_type": "execute_result"
    }
   ],
   "source": [
    "logreg_model.score(X_train, y_train)"
   ]
  },
  {
   "cell_type": "code",
   "execution_count": 87,
   "id": "461b2c95",
   "metadata": {},
   "outputs": [
    {
     "data": {
      "text/plain": [
       "0.9193994629343315"
      ]
     },
     "execution_count": 87,
     "metadata": {},
     "output_type": "execute_result"
    }
   ],
   "source": [
    "logreg_model.score(X_test, y_test)"
   ]
  },
  {
   "cell_type": "markdown",
   "id": "65cfa458",
   "metadata": {},
   "source": [
    "Performance metrics:"
   ]
  },
  {
   "cell_type": "code",
   "execution_count": 130,
   "id": "d6823098",
   "metadata": {},
   "outputs": [
    {
     "data": {
      "text/plain": [
       "GridSearchCV(cv=10, estimator=LogisticRegression(),\n",
       "             param_grid={'C': array([1.e-03, 1.e-02, 1.e-01, 1.e+00, 1.e+01, 1.e+02, 1.e+03]),\n",
       "                         'penalty': ['l1', 'l2']},\n",
       "             scoring='accuracy')"
      ]
     },
     "execution_count": 130,
     "metadata": {},
     "output_type": "execute_result"
    }
   ],
   "source": [
    "from sklearn.model_selection import GridSearchCV\n",
    "\n",
    "import warnings\n",
    "warnings.filterwarnings(\"ignore\")\n",
    "\n",
    "param_grid = {\"penalty\": [\"l1\", \"l2\"], \"C\": np.logspace(-3, 3, 7)}\n",
    "\n",
    "grid = GridSearchCV(LogisticRegression(), param_grid, scoring=\"accuracy\", cv=5)\n",
    "grid.fit(X_train, y_train)"
   ]
  },
  {
   "cell_type": "code",
   "execution_count": 131,
   "id": "4f2b2675",
   "metadata": {},
   "outputs": [
    {
     "data": {
      "text/plain": [
       "0.9153392330383481"
      ]
     },
     "execution_count": 131,
     "metadata": {},
     "output_type": "execute_result"
    }
   ],
   "source": [
    "grid.best_score_"
   ]
  },
  {
   "cell_type": "code",
   "execution_count": 132,
   "id": "ca727903",
   "metadata": {},
   "outputs": [
    {
     "data": {
      "text/plain": [
       "{'C': 0.1, 'penalty': 'l2'}"
      ]
     },
     "execution_count": 132,
     "metadata": {},
     "output_type": "execute_result"
    }
   ],
   "source": [
    "grid.best_params_"
   ]
  },
  {
   "cell_type": "code",
   "execution_count": 133,
   "id": "de7d21e4",
   "metadata": {},
   "outputs": [
    {
     "data": {
      "text/plain": [
       "0.9197249572788673"
      ]
     },
     "execution_count": 133,
     "metadata": {},
     "output_type": "execute_result"
    }
   ],
   "source": [
    "best_logreg_model = grid.best_estimator_\n",
    "best_logreg_model.score(X_test, y_test)"
   ]
  },
  {
   "cell_type": "code",
   "execution_count": 119,
   "id": "643c1fd7",
   "metadata": {},
   "outputs": [
    {
     "data": {
      "text/plain": [
       "0.9146373715796969"
      ]
     },
     "execution_count": 119,
     "metadata": {},
     "output_type": "execute_result"
    }
   ],
   "source": [
    "from sklearn.model_selection import cross_val_score\n",
    "\n",
    "cross_val_score(logreg_model, X_train, y_train, cv=5, scoring=\"accuracy\").mean()"
   ]
  },
  {
   "cell_type": "code",
   "execution_count": 88,
   "id": "f0d1dfea",
   "metadata": {},
   "outputs": [
    {
     "data": {
      "text/html": [
       "<div>\n",
       "<style scoped>\n",
       "    .dataframe tbody tr th:only-of-type {\n",
       "        vertical-align: middle;\n",
       "    }\n",
       "\n",
       "    .dataframe tbody tr th {\n",
       "        vertical-align: top;\n",
       "    }\n",
       "\n",
       "    .dataframe thead th {\n",
       "        text-align: right;\n",
       "    }\n",
       "</style>\n",
       "<table border=\"1\" class=\"dataframe\">\n",
       "  <thead>\n",
       "    <tr style=\"text-align: right;\">\n",
       "      <th>col_0</th>\n",
       "      <th>0</th>\n",
       "      <th>1</th>\n",
       "    </tr>\n",
       "    <tr>\n",
       "      <th>readmitted</th>\n",
       "      <th></th>\n",
       "      <th></th>\n",
       "    </tr>\n",
       "  </thead>\n",
       "  <tbody>\n",
       "    <tr>\n",
       "      <th>0</th>\n",
       "      <td>11790</td>\n",
       "      <td>509</td>\n",
       "    </tr>\n",
       "    <tr>\n",
       "      <th>1</th>\n",
       "      <td>1472</td>\n",
       "      <td>10807</td>\n",
       "    </tr>\n",
       "  </tbody>\n",
       "</table>\n",
       "</div>"
      ],
      "text/plain": [
       "col_0           0      1\n",
       "readmitted              \n",
       "0           11790    509\n",
       "1            1472  10807"
      ]
     },
     "execution_count": 88,
     "metadata": {},
     "output_type": "execute_result"
    }
   ],
   "source": [
    "pd.crosstab(y_test, logreg_pred)"
   ]
  },
  {
   "cell_type": "code",
   "execution_count": 89,
   "id": "2bfb87ad",
   "metadata": {
    "scrolled": true
   },
   "outputs": [
    {
     "name": "stdout",
     "output_type": "stream",
     "text": [
      "Accuracy : 0.92\n",
      "Precision: 0.96\n",
      "Recall: 0.88\n",
      "F1-score: 0.92\n"
     ]
    }
   ],
   "source": [
    "print_scores(logreg_pred)"
   ]
  },
  {
   "cell_type": "markdown",
   "id": "036c0d9f",
   "metadata": {},
   "source": [
    "We can see that this method is really efficient, our 3 scores improved a lot."
   ]
  },
  {
   "cell_type": "markdown",
   "id": "80956d68",
   "metadata": {},
   "source": [
    "<a name=\"dtree\">\n",
    "\n",
    "##### 3.3) Decision tree"
   ]
  },
  {
   "cell_type": "code",
   "execution_count": 90,
   "id": "cab5dab1",
   "metadata": {},
   "outputs": [],
   "source": [
    "from sklearn.tree import DecisionTreeClassifier\n",
    "\n",
    "tree_model = DecisionTreeClassifier()\n",
    "tree_model.fit(X_train, y_train)\n",
    "\n",
    "tree_pred = tree_model.predict(X_test)"
   ]
  },
  {
   "cell_type": "code",
   "execution_count": 91,
   "id": "0b2c3a95",
   "metadata": {},
   "outputs": [
    {
     "data": {
      "text/plain": [
       "0.9999898280948022"
      ]
     },
     "execution_count": 91,
     "metadata": {},
     "output_type": "execute_result"
    }
   ],
   "source": [
    "tree_model.score(X_train, y_train)"
   ]
  },
  {
   "cell_type": "code",
   "execution_count": 92,
   "id": "788e5bd0",
   "metadata": {},
   "outputs": [
    {
     "data": {
      "text/plain": [
       "0.8928309870615998"
      ]
     },
     "execution_count": 92,
     "metadata": {},
     "output_type": "execute_result"
    }
   ],
   "source": [
    "tree_model.score(X_test, y_test)"
   ]
  },
  {
   "cell_type": "markdown",
   "id": "1634e512",
   "metadata": {},
   "source": [
    "Performance metrics:"
   ]
  },
  {
   "cell_type": "code",
   "execution_count": 134,
   "id": "38291aa8",
   "metadata": {},
   "outputs": [
    {
     "data": {
      "text/plain": [
       "GridSearchCV(cv=5, estimator=DecisionTreeClassifier(),\n",
       "             param_grid={'ccp_alpha': [0.1, 0.01, 0.001],\n",
       "                         'criterion': ['gini', 'entropy'],\n",
       "                         'max_depth': [5, 6, 7, 8, 9],\n",
       "                         'max_features': ['auto', 'sqrt', 'log2']},\n",
       "             scoring='accuracy')"
      ]
     },
     "execution_count": 134,
     "metadata": {},
     "output_type": "execute_result"
    }
   ],
   "source": [
    "warnings.filterwarnings(\"ignore\")\n",
    "\n",
    "param_grid = {'max_features': ['auto', 'sqrt', 'log2'],\n",
    "              'ccp_alpha': [0.1, .01, .001],\n",
    "              'max_depth' : [5, 6, 7, 8, 9],\n",
    "              'criterion' :['gini', 'entropy']}\n",
    "\n",
    "grid = GridSearchCV(DecisionTreeClassifier(), param_grid, scoring=\"accuracy\", cv=5)\n",
    "grid.fit(X_train, y_train)"
   ]
  },
  {
   "cell_type": "code",
   "execution_count": 135,
   "id": "50f60726",
   "metadata": {},
   "outputs": [
    {
     "data": {
      "text/plain": [
       "0.6559454785881395"
      ]
     },
     "execution_count": 135,
     "metadata": {},
     "output_type": "execute_result"
    }
   ],
   "source": [
    "grid.best_score_"
   ]
  },
  {
   "cell_type": "code",
   "execution_count": 136,
   "id": "d09f9ed1",
   "metadata": {},
   "outputs": [
    {
     "data": {
      "text/plain": [
       "{'ccp_alpha': 0.001,\n",
       " 'criterion': 'gini',\n",
       " 'max_depth': 9,\n",
       " 'max_features': 'sqrt'}"
      ]
     },
     "execution_count": 136,
     "metadata": {},
     "output_type": "execute_result"
    }
   ],
   "source": [
    "grid.best_params_"
   ]
  },
  {
   "cell_type": "code",
   "execution_count": 137,
   "id": "539888d4",
   "metadata": {},
   "outputs": [
    {
     "data": {
      "text/plain": [
       "0.6550166815851575"
      ]
     },
     "execution_count": 137,
     "metadata": {},
     "output_type": "execute_result"
    }
   ],
   "source": [
    "best_logreg_model = grid.best_estimator_\n",
    "best_logreg_model.score(X_test, y_test)"
   ]
  },
  {
   "cell_type": "code",
   "execution_count": 93,
   "id": "26b5f2b3",
   "metadata": {},
   "outputs": [
    {
     "data": {
      "text/html": [
       "<div>\n",
       "<style scoped>\n",
       "    .dataframe tbody tr th:only-of-type {\n",
       "        vertical-align: middle;\n",
       "    }\n",
       "\n",
       "    .dataframe tbody tr th {\n",
       "        vertical-align: top;\n",
       "    }\n",
       "\n",
       "    .dataframe thead th {\n",
       "        text-align: right;\n",
       "    }\n",
       "</style>\n",
       "<table border=\"1\" class=\"dataframe\">\n",
       "  <thead>\n",
       "    <tr style=\"text-align: right;\">\n",
       "      <th>col_0</th>\n",
       "      <th>0</th>\n",
       "      <th>1</th>\n",
       "    </tr>\n",
       "    <tr>\n",
       "      <th>readmitted</th>\n",
       "      <th></th>\n",
       "      <th></th>\n",
       "    </tr>\n",
       "  </thead>\n",
       "  <tbody>\n",
       "    <tr>\n",
       "      <th>0</th>\n",
       "      <td>10829</td>\n",
       "      <td>1470</td>\n",
       "    </tr>\n",
       "    <tr>\n",
       "      <th>1</th>\n",
       "      <td>1164</td>\n",
       "      <td>11115</td>\n",
       "    </tr>\n",
       "  </tbody>\n",
       "</table>\n",
       "</div>"
      ],
      "text/plain": [
       "col_0           0      1\n",
       "readmitted              \n",
       "0           10829   1470\n",
       "1            1164  11115"
      ]
     },
     "execution_count": 93,
     "metadata": {},
     "output_type": "execute_result"
    }
   ],
   "source": [
    "pd.crosstab(y_test, tree_pred)"
   ]
  },
  {
   "cell_type": "code",
   "execution_count": 94,
   "id": "cab5e537",
   "metadata": {
    "scrolled": true
   },
   "outputs": [
    {
     "name": "stdout",
     "output_type": "stream",
     "text": [
      "Accuracy : 0.89\n",
      "Precision: 0.88\n",
      "Recall: 0.91\n",
      "F1-score: 0.89\n"
     ]
    }
   ],
   "source": [
    "print_scores(tree_pred)"
   ]
  },
  {
   "cell_type": "markdown",
   "id": "0d86bbb5",
   "metadata": {},
   "source": [
    "With the decision tree model we can see the most important features:"
   ]
  },
  {
   "cell_type": "code",
   "execution_count": 95,
   "id": "7a2fb6b8",
   "metadata": {},
   "outputs": [
    {
     "data": {
      "image/png": "[encoded data removed]",
      "text/plain": [
       "<Figure size 1440x720 with 1 Axes>"
      ]
     },
     "metadata": {
      "needs_background": "light"
     },
     "output_type": "display_data"
    }
   ],
   "source": [
    "important_features = pd.DataFrame([f for f in zip(X_train.columns, tree_model.feature_importances_)], columns=[\"Features\", \"Importance\"])\n",
    "important_features.sort_values(by=\"Importance\", ascending=False, inplace=True)\n",
    "important_features\n",
    "\n",
    "fig = plt.figure(figsize=(20,10))\n",
    "ax = sns.barplot(data=important_features[:10], x=\"Features\", y=\"Importance\")\n",
    "ax.set(xlabel=\"Features\", ylabel = \"Importance\", title = \"10 most important features\")\n",
    "plt.show()"
   ]
  },
  {
   "cell_type": "code",
   "execution_count": 96,
   "id": "53919cbc",
   "metadata": {},
   "outputs": [
    {
     "data": {
      "text/plain": [
       "'Discharged to home'"
      ]
     },
     "execution_count": 96,
     "metadata": {},
     "output_type": "execute_result"
    }
   ],
   "source": [
    "info_discharge_disposition[1]"
   ]
  },
  {
   "cell_type": "markdown",
   "id": "11f32719",
   "metadata": {},
   "source": [
    "discharge_disposition_id_1 corresponds to patient who returned home or didn't."
   ]
  },
  {
   "cell_type": "markdown",
   "id": "32ac6ffe",
   "metadata": {},
   "source": [
    "<a name=\"rf\">\n",
    "    \n",
    "##### 3.4) Random Forest"
   ]
  },
  {
   "cell_type": "code",
   "execution_count": 97,
   "id": "b9054dba",
   "metadata": {},
   "outputs": [],
   "source": [
    "from sklearn.ensemble import RandomForestClassifier\n",
    "\n",
    "rfc = RandomForestClassifier(n_estimators=118).fit(X_train, y_train)\n",
    "rfc.fit(X_train, y_train)\n",
    "\n",
    "rfc_pred = rfc.predict(X_test)"
   ]
  },
  {
   "cell_type": "code",
   "execution_count": 98,
   "id": "88017205",
   "metadata": {},
   "outputs": [
    {
     "data": {
      "text/plain": [
       "0.9999898280948022"
      ]
     },
     "execution_count": 98,
     "metadata": {},
     "output_type": "execute_result"
    }
   ],
   "source": [
    "rfc.score(X_train, y_train)"
   ]
  },
  {
   "cell_type": "code",
   "execution_count": 99,
   "id": "240fac32",
   "metadata": {},
   "outputs": [
    {
     "data": {
      "text/plain": [
       "0.9576450484172837"
      ]
     },
     "execution_count": 99,
     "metadata": {},
     "output_type": "execute_result"
    }
   ],
   "source": [
    "rfc.score(X_test, y_test)"
   ]
  },
  {
   "cell_type": "markdown",
   "id": "97979f20",
   "metadata": {},
   "source": [
    "Performance metrics:"
   ]
  },
  {
   "cell_type": "code",
   "execution_count": 134,
   "id": "8bce2be9",
   "metadata": {},
   "outputs": [
    {
     "data": {
      "text/plain": [
       "GridSearchCV(cv=5, estimator=DecisionTreeClassifier(),\n",
       "             param_grid={'ccp_alpha': [0.1, 0.01, 0.001],\n",
       "                         'criterion': ['gini', 'entropy'],\n",
       "                         'max_depth': [5, 6, 7, 8, 9],\n",
       "                         'max_features': ['auto', 'sqrt', 'log2']},\n",
       "             scoring='accuracy')"
      ]
     },
     "execution_count": 134,
     "metadata": {},
     "output_type": "execute_result"
    }
   ],
   "source": [
    "warnings.filterwarnings(\"ignore\")\n",
    "\n",
    "param_grid = { \n",
    "    'n_estimators': 118,\n",
    "    'max_features': ['auto', 'sqrt', 'log2'],\n",
    "    'max_depth' : [4,5,6,7,8],\n",
    "    'criterion' :['gini', 'entropy']\n",
    "}\n",
    "\n",
    "grid = GridSearchCV(RandomForestClassifier(), param_grid, scoring=\"accuracy\", cv=5)\n",
    "grid.fit(X_train, y_train)"
   ]
  },
  {
   "cell_type": "code",
   "execution_count": 135,
   "id": "6cec1462",
   "metadata": {},
   "outputs": [
    {
     "data": {
      "text/plain": [
       "0.6559454785881395"
      ]
     },
     "execution_count": 135,
     "metadata": {},
     "output_type": "execute_result"
    }
   ],
   "source": [
    "grid.best_score_"
   ]
  },
  {
   "cell_type": "code",
   "execution_count": 136,
   "id": "92999f29",
   "metadata": {},
   "outputs": [
    {
     "data": {
      "text/plain": [
       "{'ccp_alpha': 0.001,\n",
       " 'criterion': 'gini',\n",
       " 'max_depth': 9,\n",
       " 'max_features': 'sqrt'}"
      ]
     },
     "execution_count": 136,
     "metadata": {},
     "output_type": "execute_result"
    }
   ],
   "source": [
    "grid.best_params_"
   ]
  },
  {
   "cell_type": "code",
   "execution_count": 137,
   "id": "6ed5e90e",
   "metadata": {
    "scrolled": true
   },
   "outputs": [
    {
     "data": {
      "text/plain": [
       "0.6550166815851575"
      ]
     },
     "execution_count": 137,
     "metadata": {},
     "output_type": "execute_result"
    }
   ],
   "source": [
    "best_logreg_model = grid.best_estimator_\n",
    "best_logreg_model.score(X_test, y_test)"
   ]
  },
  {
   "cell_type": "code",
   "execution_count": 138,
   "id": "993ec49c",
   "metadata": {},
   "outputs": [
    {
     "data": {
      "text/plain": [
       "0.9530770013223476"
      ]
     },
     "execution_count": 138,
     "metadata": {},
     "output_type": "execute_result"
    }
   ],
   "source": [
    "cross_val_score(rfc, X_train, y_train, cv=5, scoring=\"accuracy\").mean()"
   ]
  },
  {
   "cell_type": "code",
   "execution_count": 100,
   "id": "91dbeb97",
   "metadata": {},
   "outputs": [
    {
     "data": {
      "text/html": [
       "<div>\n",
       "<style scoped>\n",
       "    .dataframe tbody tr th:only-of-type {\n",
       "        vertical-align: middle;\n",
       "    }\n",
       "\n",
       "    .dataframe tbody tr th {\n",
       "        vertical-align: top;\n",
       "    }\n",
       "\n",
       "    .dataframe thead th {\n",
       "        text-align: right;\n",
       "    }\n",
       "</style>\n",
       "<table border=\"1\" class=\"dataframe\">\n",
       "  <thead>\n",
       "    <tr style=\"text-align: right;\">\n",
       "      <th>col_0</th>\n",
       "      <th>0</th>\n",
       "      <th>1</th>\n",
       "      <th>All</th>\n",
       "    </tr>\n",
       "    <tr>\n",
       "      <th>readmitted</th>\n",
       "      <th></th>\n",
       "      <th></th>\n",
       "      <th></th>\n",
       "    </tr>\n",
       "  </thead>\n",
       "  <tbody>\n",
       "    <tr>\n",
       "      <th>0</th>\n",
       "      <td>12188</td>\n",
       "      <td>111</td>\n",
       "      <td>12299</td>\n",
       "    </tr>\n",
       "    <tr>\n",
       "      <th>1</th>\n",
       "      <td>930</td>\n",
       "      <td>11349</td>\n",
       "      <td>12279</td>\n",
       "    </tr>\n",
       "    <tr>\n",
       "      <th>All</th>\n",
       "      <td>13118</td>\n",
       "      <td>11460</td>\n",
       "      <td>24578</td>\n",
       "    </tr>\n",
       "  </tbody>\n",
       "</table>\n",
       "</div>"
      ],
      "text/plain": [
       "col_0           0      1    All\n",
       "readmitted                     \n",
       "0           12188    111  12299\n",
       "1             930  11349  12279\n",
       "All         13118  11460  24578"
      ]
     },
     "execution_count": 100,
     "metadata": {},
     "output_type": "execute_result"
    }
   ],
   "source": [
    "pd.crosstab(y_test, rfc_pred, margins = True)"
   ]
  },
  {
   "cell_type": "code",
   "execution_count": 139,
   "id": "d1dc02d0",
   "metadata": {
    "scrolled": true
   },
   "outputs": [
    {
     "name": "stdout",
     "output_type": "stream",
     "text": [
      "Accuracy : 0.96\n",
      "Precision: 0.99\n",
      "Recall: 0.92\n",
      "F1-score: 0.96\n"
     ]
    }
   ],
   "source": [
    "print_scores(rfc_pred)"
   ]
  },
  {
   "cell_type": "markdown",
   "id": "b04ccee4",
   "metadata": {},
   "source": [
    "<a name=\"compare\">\n",
    "\n",
    "#### 4) Comparing models"
   ]
  },
  {
   "cell_type": "markdown",
   "id": "f9536211",
   "metadata": {},
   "source": [
    "The mot performant model seems to be the random forest:\n",
    "- Accuracy : 0.96 \n",
    "- Precision: 0.99\n",
    "- Recall: 0.92\n",
    "- F1-score: 0.96"
   ]
  }
 ],
 "metadata": {
  "kernelspec": {
   "display_name": "Python 3 (ipykernel)",
   "language": "python",
   "name": "python3"
  },
  "language_info": {
   "codemirror_mode": {
    "name": "ipython",
    "version": 3
   },
   "file_extension": ".py",
   "mimetype": "text/x-python",
   "name": "python",
   "nbconvert_exporter": "python",
   "pygments_lexer": "ipython3",
   "version": "3.9.7"
  }
 },
 "nbformat": 4,
 "nbformat_minor": 5
}
